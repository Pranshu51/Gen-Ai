{
 "cells": [
  {
   "cell_type": "markdown",
   "id": "079f3fcd-9b05-4195-9031-7a6679f7d86e",
   "metadata": {},
   "source": [
    "#### • Introduction to Dictionary<br>\n",
    "    ▪ Create a Dictionary,<br>\n",
    "    ▪ Fetch a value from Dictionary<br>\n",
    "    ▪ Keys can be Integers too<br>\n",
    "    ▪ Update value corresponding to a key in a Dictionary<br>\n",
    "    ▪ Delete Elements from a Dictionary using \"del\"<br>\n",
    "    ▪ Delete All the Values from a Dictionary using \"clear()\"<br>\n",
    "    ▪ Delete Dictionary completely \"del\"<br>\n",
    "#### • Dictionary & It's Methods<br>\n",
    "    ▪ Length of a Dictionary<br>\n",
    "    ▪ typev\n",
    "    ▪ Fetch all Keys<br>\n",
    "    ▪ Fetch all Values<br>\n",
    "    ▪ Fetch all items from dictionary<br>\n",
    "    ▪ Check whether a parcular key exist or not in Dictionary<br>\n",
    "    ▪ Fetch a value from dict Vs Fetch a value using get() method<br>\n",
    "  - max() on dictionary<br>  \n",
    "- Dataset: d= {‘one’ : 34, ‘two’: 93, ‘three’: 71, ‘four’: 100, ‘five’: 100}  <br>\n",
    "- Dataset: state_population = {'karnataka’: 50000, ‘Maharashtra’: 750000, ‘UP*: 200000, “MP*: 185000}<br>\n",
    "\n",
    "#### - Nested Dictionary <br>\n",
    "  - Dataset: (2015: {'Chennai Super Kings': 10, 'Mumbai Indians': 10, 'Royal Challengers Bangalore': 8, 'Sumisers Hyderabad': 7, 'Rajasthan Royals': 7, 'Kolkata Knight Riders': 7, 'Delhi Daredevils': 5, 'Kings XI Punjab': 3}, 2016: {'Sumisers Hyderabad': 11, 'Royal Challengers Bangalore': 9, 'Gujarat Lions': 9, 'Kolkata Knight Riders': 8, 'Delhi Daredevils': 7, 'Mumbai Indians': 7, 'Rising Pune Supergiants': 5, [Kings XI Punjab': 4, 'Chennai Super Kings': 0]) <br>\n",
    "  - Fetch Values <br>\n",
    "  - Assign Values <br>\n",
    " #### - Update dictionary with another dict <br>\n",
    "  - Dataset: {'match_id_1': 'SRH', 'match_id_2': 'KKR', 'match_id_3': 'KXIP', 'match_id_4': 'RCB', 'match_id_5': 'MI', 'match_id_6': 'KKR', 'match_id_7': 'RCB'} <br>\n",
    "  - Keys(): values() <br>\n",
    " #### - Create Dictionary Using ZIP Method <br>\n",
    " #### - Sets <br>\n",
    "    - add() <br>\n",
    "    - update() <br>\n",
    "    - remove() <br>\n",
    "    - discard() <br>\n",
    "    - Diff remove() Vs. discard() <br>\n",
    " #### - Tuples <br>\n",
    "    - Update a Tuple <br>\n",
    "    - Slice and store in another variable <br>\n",
    "\n",
    "####    - **if** <br>\n",
    "  - while <br>\n",
    "  - range() <br>\n",
    "  - for <br>\n",
    "    - List Comprehension <br>\n",
    "    - Apply on Dictionary <br>\n",
    "    - Apply on a String <br>\n",
    "\n",
    "#### - **Reserved Keywords** <br>\n",
    "    - keyword.kwlist <br>\n",
    "    - dir(bulltins) <br>\n",
    "\n",
    "#### - **User Defined Functions** <br>\n",
    "  - Lambda Functions <br>\n",
    "  - File.IO Operations <br>"
   ]
  },
  {
   "cell_type": "code",
   "execution_count": 2,
   "id": "2dee6f25-4be3-4c9c-9e05-17fe044ef0c2",
   "metadata": {},
   "outputs": [
    {
     "data": {
      "text/plain": [
       "{2.5: 'zero', 2: 'two', 3: 'three', 4: 'four'}"
      ]
     },
     "execution_count": 2,
     "metadata": {},
     "output_type": "execute_result"
    }
   ],
   "source": [
    "my_dict = {2.5:'zero',2:'two',3:'three',4:'four'}\n",
    "my_dict #no indexing"
   ]
  },
  {
   "cell_type": "code",
   "execution_count": 4,
   "id": "41c2b9a4-bcf0-4c86-a7a6-bab7a90377a7",
   "metadata": {},
   "outputs": [
    {
     "data": {
      "text/plain": [
       "'two'"
      ]
     },
     "execution_count": 4,
     "metadata": {},
     "output_type": "execute_result"
    }
   ],
   "source": [
    "my_dict[2] # not indexing just writing the key value here"
   ]
  },
  {
   "cell_type": "code",
   "execution_count": 5,
   "id": "530f1fbd-eee3-4054-9aaf-d2276885a090",
   "metadata": {},
   "outputs": [],
   "source": [
    "my_dict[2] = \"TWO\""
   ]
  },
  {
   "cell_type": "code",
   "execution_count": 6,
   "id": "220fd59b-86ff-45d5-af15-463293809139",
   "metadata": {},
   "outputs": [
    {
     "data": {
      "text/plain": [
       "{2.5: 'zero', 2: 'TWO', 3: 'three', 4: 'four'}"
      ]
     },
     "execution_count": 6,
     "metadata": {},
     "output_type": "execute_result"
    }
   ],
   "source": [
    "my_dict"
   ]
  },
  {
   "cell_type": "markdown",
   "id": "aa0403e0-40b7-475b-9934-a4cbb356ae45",
   "metadata": {},
   "source": [
    "#### del my_dict[2] # problem with this is if we forget to give [] so  it will delete the whole dictionary\n"
   ]
  },
  {
   "cell_type": "code",
   "execution_count": 10,
   "id": "84caa908-c450-406e-b8d0-5f18bfed68bc",
   "metadata": {},
   "outputs": [
    {
     "data": {
      "text/plain": [
       "{2.5: 'zero', 3: 'three', 4: 'four'}"
      ]
     },
     "execution_count": 10,
     "metadata": {},
     "output_type": "execute_result"
    }
   ],
   "source": [
    "my_dict"
   ]
  },
  {
   "cell_type": "code",
   "execution_count": 12,
   "id": "8ce66376-5c71-436a-92a3-838ac3c73e17",
   "metadata": {},
   "outputs": [],
   "source": [
    "my_dict.clear() # if you want to clear dictionary or you want empty dictionary use clear"
   ]
  },
  {
   "cell_type": "code",
   "execution_count": 13,
   "id": "8256a75b-655f-44af-aa0c-ae3729913e9f",
   "metadata": {},
   "outputs": [
    {
     "data": {
      "text/plain": [
       "{}"
      ]
     },
     "execution_count": 13,
     "metadata": {},
     "output_type": "execute_result"
    }
   ],
   "source": [
    "my_dict\n"
   ]
  },
  {
   "cell_type": "code",
   "execution_count": 14,
   "id": "f75f04e0-3f31-46cc-8b96-8a5f33de0ec4",
   "metadata": {},
   "outputs": [],
   "source": [
    "my_dict = {2.5:'zero',2:'two',3:'three',4:'four'}"
   ]
  },
  {
   "cell_type": "code",
   "execution_count": 15,
   "id": "2cc8439a-e4c2-463f-ad8d-d3b5be84b2dc",
   "metadata": {},
   "outputs": [
    {
     "data": {
      "text/plain": [
       "4"
      ]
     },
     "execution_count": 15,
     "metadata": {},
     "output_type": "execute_result"
    }
   ],
   "source": [
    "len(my_dict)"
   ]
  },
  {
   "cell_type": "code",
   "execution_count": 16,
   "id": "808e29f3-9819-4c48-851f-7b3f72827a96",
   "metadata": {},
   "outputs": [
    {
     "data": {
      "text/plain": [
       "dict"
      ]
     },
     "execution_count": 16,
     "metadata": {},
     "output_type": "execute_result"
    }
   ],
   "source": [
    "type(my_dict)"
   ]
  },
  {
   "cell_type": "code",
   "execution_count": 17,
   "id": "f87865db-631d-4661-ba22-d5fdf4445a2d",
   "metadata": {},
   "outputs": [
    {
     "data": {
      "text/plain": [
       "dict_keys([2.5, 2, 3, 4])"
      ]
     },
     "execution_count": 17,
     "metadata": {},
     "output_type": "execute_result"
    }
   ],
   "source": [
    "my_dict.keys() #for only fetching keys"
   ]
  },
  {
   "cell_type": "code",
   "execution_count": 3,
   "id": "16bfbe10-1f9e-4112-8aa5-5a7377c18d91",
   "metadata": {},
   "outputs": [
    {
     "data": {
      "text/plain": [
       "dict_values(['zero', 'two', 'three', 'four'])"
      ]
     },
     "execution_count": 3,
     "metadata": {},
     "output_type": "execute_result"
    }
   ],
   "source": [
    "my_dict.values() "
   ]
  },
  {
   "cell_type": "code",
   "execution_count": 4,
   "id": "1cc7e825-c670-4e34-ae16-6e76e7a7856d",
   "metadata": {},
   "outputs": [],
   "source": [
    "list1 = ['zero', 'two', 'three', 'four'] # we canput any type of data inkey value pair key1 value [1,2,3] etc.."
   ]
  },
  {
   "cell_type": "code",
   "execution_count": 5,
   "id": "63840cf6-48fd-4aa3-86d3-e1e25a4b9e19",
   "metadata": {},
   "outputs": [],
   "source": [
    "list2 = [1,2,3,4]"
   ]
  },
  {
   "cell_type": "code",
   "execution_count": 6,
   "id": "bede4ab5-095f-4a62-af86-e970fdd659e2",
   "metadata": {},
   "outputs": [
    {
     "data": {
      "text/plain": [
       "{1: 'zero', 2: 'two', 3: 'three', 4: 'four'}"
      ]
     },
     "execution_count": 6,
     "metadata": {},
     "output_type": "execute_result"
    }
   ],
   "source": [
    "dict(zip(list2,list1))"
   ]
  },
  {
   "cell_type": "code",
   "execution_count": 7,
   "id": "cd72e521-5e81-4d0b-9826-ebab63d6b79d",
   "metadata": {},
   "outputs": [
    {
     "data": {
      "text/plain": [
       "dict_items([(2.5, 'zero'), (2, 'two'), (3, 'three'), (4, 'four')])"
      ]
     },
     "execution_count": 7,
     "metadata": {},
     "output_type": "execute_result"
    }
   ],
   "source": [
    "my_dict.items()"
   ]
  },
  {
   "cell_type": "code",
   "execution_count": 8,
   "id": "9bfabdd1-0e68-483d-986d-8a93f0550049",
   "metadata": {},
   "outputs": [
    {
     "name": "stdout",
     "output_type": "stream",
     "text": [
      "2.5--->zero\n",
      "2--->two\n",
      "3--->three\n",
      "4--->four\n"
     ]
    }
   ],
   "source": [
    "for key,val in my_dict.items():\n",
    "   print(str(key) + '--->' + val) #we can also access only key ,val seperately by print(key)"
   ]
  },
  {
   "cell_type": "code",
   "execution_count": 10,
   "id": "c09cfb05-e930-42dc-9b9a-48725022a34e",
   "metadata": {},
   "outputs": [
    {
     "data": {
      "text/plain": [
       "True"
      ]
     },
     "execution_count": 10,
     "metadata": {},
     "output_type": "execute_result"
    }
   ],
   "source": [
    "2 in my_dict #to check the availaibility"
   ]
  },
  {
   "cell_type": "code",
   "execution_count": 18,
   "id": "80d25f07-199f-4482-93b6-22966a2b0631",
   "metadata": {},
   "outputs": [
    {
     "data": {
      "text/plain": [
       "True"
      ]
     },
     "execution_count": 18,
     "metadata": {},
     "output_type": "execute_result"
    }
   ],
   "source": [
    "'two' in my_dict.values()"
   ]
  },
  {
   "cell_type": "code",
   "execution_count": 19,
   "id": "a69a010a-bdf4-4974-a5d4-290d4609450b",
   "metadata": {},
   "outputs": [
    {
     "data": {
      "text/plain": [
       "'two'"
      ]
     },
     "execution_count": 19,
     "metadata": {},
     "output_type": "execute_result"
    }
   ],
   "source": [
    "my_dict[2]"
   ]
  },
  {
   "cell_type": "code",
   "execution_count": 20,
   "id": "b9ab3cf4-6cee-4d42-a496-73d44d651020",
   "metadata": {},
   "outputs": [
    {
     "data": {
      "text/plain": [
       "'two'"
      ]
     },
     "execution_count": 20,
     "metadata": {},
     "output_type": "execute_result"
    }
   ],
   "source": [
    "my_dict.get(2)"
   ]
  },
  {
   "cell_type": "code",
   "execution_count": 1,
   "id": "f8a3d839-c5d6-4d35-979a-ef47bfaab801",
   "metadata": {},
   "outputs": [],
   "source": [
    "state_population = {'karnataka': 50000, 'Maharashtra': 750000, 'UP': 200000, 'MP': 185000}"
   ]
  },
  {
   "cell_type": "code",
   "execution_count": 2,
   "id": "fd46768c-b140-489e-9d0b-95e891436d41",
   "metadata": {},
   "outputs": [
    {
     "data": {
      "text/plain": [
       "{'karnataka': 50000, 'Maharashtra': 750000, 'UP': 200000, 'MP': 185000}"
      ]
     },
     "execution_count": 2,
     "metadata": {},
     "output_type": "execute_result"
    }
   ],
   "source": [
    "state_population\n"
   ]
  },
  {
   "cell_type": "code",
   "execution_count": 4,
   "id": "3e6e1fe2-8182-4bfc-bf62-5928c1163aaa",
   "metadata": {},
   "outputs": [
    {
     "data": {
      "text/plain": [
       "'karnataka'"
      ]
     },
     "execution_count": 4,
     "metadata": {},
     "output_type": "execute_result"
    }
   ],
   "source": [
    "max(state_population) #  A<B<C....Z,a<b<...<z small case letters are smaller than capital letter"
   ]
  },
  {
   "cell_type": "code",
   "execution_count": 5,
   "id": "f485408d-a313-4637-8d1c-f5da74df280b",
   "metadata": {},
   "outputs": [
    {
     "data": {
      "text/plain": [
       "750000"
      ]
     },
     "execution_count": 5,
     "metadata": {},
     "output_type": "execute_result"
    }
   ],
   "source": [
    "max(state_population.values())"
   ]
  },
  {
   "cell_type": "code",
   "execution_count": 6,
   "id": "a2f8b74f-12a6-45e5-8ac7-4ccfe01b79da",
   "metadata": {},
   "outputs": [
    {
     "data": {
      "text/plain": [
       "'Maharashtra'"
      ]
     },
     "execution_count": 6,
     "metadata": {},
     "output_type": "execute_result"
    }
   ],
   "source": [
    "max(state_population, key = state_population.get)"
   ]
  },
  {
   "cell_type": "code",
   "execution_count": 9,
   "id": "178dd780-45bc-430c-833a-982003251bcf",
   "metadata": {},
   "outputs": [],
   "source": [
    "ipl = {\n",
    "    2015: {\n",
    "        'Chennai Super Kings': 10, \n",
    "        'Mumbai Indians': 10,\n",
    "        'Royal Challengers Bangalore': 8,\n",
    "        'Sumisers Hyderabad': 7,\n",
    "        'Rajasthan Royals': 7,\n",
    "        'Kolkata Knight Riders': 7,\n",
    "        'Delhi Daredevils': 5,\n",
    "        'Kings XI Punjab': 3\n",
    "    },\n",
    "    2016: {\n",
    "        'Sumisers Hyderabad': 11,\n",
    "        'Royal Challengers Bangalore': 9,\n",
    "        'Gujarat Lions': 9,\n",
    "        'Kolkata Knight Riders': 8,\n",
    "        'Delhi Daredevils': 7,\n",
    "        'Mumbai Indians': 7,\n",
    "        'Rising Pune Supergiants': 5,\n",
    "        'Kings XI Punjab': 4,\n",
    "        'Chennai Super Kings': 0\n",
    "    }\n",
    "}"
   ]
  },
  {
   "cell_type": "code",
   "execution_count": 10,
   "id": "0c73382f-8071-4785-b9b5-a7068bad7d96",
   "metadata": {},
   "outputs": [
    {
     "data": {
      "text/plain": [
       "{2015: {'Chennai Super Kings': 10,\n",
       "  'Mumbai Indians': 10,\n",
       "  'Royal Challengers Bangalore': 8,\n",
       "  'Sumisers Hyderabad': 7,\n",
       "  'Rajasthan Royals': 7,\n",
       "  'Kolkata Knight Riders': 7,\n",
       "  'Delhi Daredevils': 5,\n",
       "  'Kings XI Punjab': 3},\n",
       " 2016: {'Sumisers Hyderabad': 11,\n",
       "  'Royal Challengers Bangalore': 9,\n",
       "  'Gujarat Lions': 9,\n",
       "  'Kolkata Knight Riders': 8,\n",
       "  'Delhi Daredevils': 7,\n",
       "  'Mumbai Indians': 7,\n",
       "  'Rising Pune Supergiants': 5,\n",
       "  'Kings XI Punjab': 4,\n",
       "  'Chennai Super Kings': 0}}"
      ]
     },
     "execution_count": 10,
     "metadata": {},
     "output_type": "execute_result"
    }
   ],
   "source": [
    "ipl"
   ]
  },
  {
   "cell_type": "code",
   "execution_count": 11,
   "id": "ca01d18a-1841-426c-9beb-117727fbb759",
   "metadata": {},
   "outputs": [
    {
     "data": {
      "text/plain": [
       "dict_keys([2015, 2016])"
      ]
     },
     "execution_count": 11,
     "metadata": {},
     "output_type": "execute_result"
    }
   ],
   "source": [
    "ipl.keys()"
   ]
  },
  {
   "cell_type": "code",
   "execution_count": 12,
   "id": "2fcd385f-0c4c-491a-aed1-ab59f89f92f0",
   "metadata": {},
   "outputs": [
    {
     "data": {
      "text/plain": [
       "dict_values([{'Chennai Super Kings': 10, 'Mumbai Indians': 10, 'Royal Challengers Bangalore': 8, 'Sumisers Hyderabad': 7, 'Rajasthan Royals': 7, 'Kolkata Knight Riders': 7, 'Delhi Daredevils': 5, 'Kings XI Punjab': 3}, {'Sumisers Hyderabad': 11, 'Royal Challengers Bangalore': 9, 'Gujarat Lions': 9, 'Kolkata Knight Riders': 8, 'Delhi Daredevils': 7, 'Mumbai Indians': 7, 'Rising Pune Supergiants': 5, 'Kings XI Punjab': 4, 'Chennai Super Kings': 0}])"
      ]
     },
     "execution_count": 12,
     "metadata": {},
     "output_type": "execute_result"
    }
   ],
   "source": [
    "ipl.values()"
   ]
  },
  {
   "cell_type": "code",
   "execution_count": 13,
   "id": "a0e7cdd8-7708-4bc2-a677-65c435f7d2f0",
   "metadata": {},
   "outputs": [],
   "source": [
    "ipl[2015][ 'Rajasthan Royals'] = 77"
   ]
  },
  {
   "cell_type": "code",
   "execution_count": 14,
   "id": "493c6ca5-71f7-453e-a7c5-3c5e91a56b7e",
   "metadata": {},
   "outputs": [
    {
     "data": {
      "text/plain": [
       "{2015: {'Chennai Super Kings': 10,\n",
       "  'Mumbai Indians': 10,\n",
       "  'Royal Challengers Bangalore': 8,\n",
       "  'Sumisers Hyderabad': 7,\n",
       "  'Rajasthan Royals': 77,\n",
       "  'Kolkata Knight Riders': 7,\n",
       "  'Delhi Daredevils': 5,\n",
       "  'Kings XI Punjab': 3},\n",
       " 2016: {'Sumisers Hyderabad': 11,\n",
       "  'Royal Challengers Bangalore': 9,\n",
       "  'Gujarat Lions': 9,\n",
       "  'Kolkata Knight Riders': 8,\n",
       "  'Delhi Daredevils': 7,\n",
       "  'Mumbai Indians': 7,\n",
       "  'Rising Pune Supergiants': 5,\n",
       "  'Kings XI Punjab': 4,\n",
       "  'Chennai Super Kings': 0}}"
      ]
     },
     "execution_count": 14,
     "metadata": {},
     "output_type": "execute_result"
    }
   ],
   "source": [
    "ipl"
   ]
  },
  {
   "cell_type": "code",
   "execution_count": 15,
   "id": "d681ba2e-99e1-4bae-bbd3-23244153af38",
   "metadata": {},
   "outputs": [],
   "source": [
    "ipl_another = {'match_id_1': 'SRH', 'match_id_2': 'KKR', 'match_id_3': 'KXIP', 'match_id_4': 'RCB', 'match_id_5': 'MI', 'match_id_6': 'KKR', 'match_id_7': 'RCB'}"
   ]
  },
  {
   "cell_type": "code",
   "execution_count": 16,
   "id": "6c715e3c-41a4-48cb-b119-8a178941cc6f",
   "metadata": {},
   "outputs": [
    {
     "data": {
      "text/plain": [
       "{'match_id_1': 'SRH',\n",
       " 'match_id_2': 'KKR',\n",
       " 'match_id_3': 'KXIP',\n",
       " 'match_id_4': 'RCB',\n",
       " 'match_id_5': 'MI',\n",
       " 'match_id_6': 'KKR',\n",
       " 'match_id_7': 'RCB'}"
      ]
     },
     "execution_count": 16,
     "metadata": {},
     "output_type": "execute_result"
    }
   ],
   "source": [
    "ipl_another"
   ]
  },
  {
   "cell_type": "code",
   "execution_count": 18,
   "id": "f5c9c6b3-9ca3-4432-8fdd-5217fcfb1141",
   "metadata": {},
   "outputs": [],
   "source": [
    "ipl.update(ipl_another)"
   ]
  },
  {
   "cell_type": "code",
   "execution_count": 19,
   "id": "149d3da4-f807-4d7c-81b6-aba758b0b2a2",
   "metadata": {},
   "outputs": [
    {
     "data": {
      "text/plain": [
       "{2015: {'Chennai Super Kings': 10,\n",
       "  'Mumbai Indians': 10,\n",
       "  'Royal Challengers Bangalore': 8,\n",
       "  'Sumisers Hyderabad': 7,\n",
       "  'Rajasthan Royals': 77,\n",
       "  'Kolkata Knight Riders': 7,\n",
       "  'Delhi Daredevils': 5,\n",
       "  'Kings XI Punjab': 3},\n",
       " 2016: {'Sumisers Hyderabad': 11,\n",
       "  'Royal Challengers Bangalore': 9,\n",
       "  'Gujarat Lions': 9,\n",
       "  'Kolkata Knight Riders': 8,\n",
       "  'Delhi Daredevils': 7,\n",
       "  'Mumbai Indians': 7,\n",
       "  'Rising Pune Supergiants': 5,\n",
       "  'Kings XI Punjab': 4,\n",
       "  'Chennai Super Kings': 0},\n",
       " 'match_id_1': 'SRH',\n",
       " 'match_id_2': 'KKR',\n",
       " 'match_id_3': 'KXIP',\n",
       " 'match_id_4': 'RCB',\n",
       " 'match_id_5': 'MI',\n",
       " 'match_id_6': 'KKR',\n",
       " 'match_id_7': 'RCB'}"
      ]
     },
     "execution_count": 19,
     "metadata": {},
     "output_type": "execute_result"
    }
   ],
   "source": [
    "ipl"
   ]
  },
  {
   "cell_type": "code",
   "execution_count": 20,
   "id": "87e3dcef-6326-4845-a080-272baa49c4b0",
   "metadata": {},
   "outputs": [
    {
     "data": {
      "text/plain": [
       "dict_keys([2015, 2016, 'match_id_1', 'match_id_2', 'match_id_3', 'match_id_4', 'match_id_5', 'match_id_6', 'match_id_7'])"
      ]
     },
     "execution_count": 20,
     "metadata": {},
     "output_type": "execute_result"
    }
   ],
   "source": [
    "ipl.keys()"
   ]
  },
  {
   "cell_type": "code",
   "execution_count": 21,
   "id": "9d2d3a2d-3316-4bf9-8281-0bcb613d5a57",
   "metadata": {},
   "outputs": [],
   "source": [
    "list1 = ['zero', 'two', 'three', 'four'] "
   ]
  },
  {
   "cell_type": "code",
   "execution_count": 22,
   "id": "086dab87-c6de-4dbd-9ac1-c0f5bccbc2c2",
   "metadata": {},
   "outputs": [],
   "source": [
    "list2 = [1,2,3,4]"
   ]
  },
  {
   "cell_type": "code",
   "execution_count": 23,
   "id": "6a660abc-86bf-47f9-89d4-1cb611ca2c83",
   "metadata": {},
   "outputs": [
    {
     "data": {
      "text/plain": [
       "{1: 'zero', 2: 'two', 3: 'three', 4: 'four'}"
      ]
     },
     "execution_count": 23,
     "metadata": {},
     "output_type": "execute_result"
    }
   ],
   "source": [
    "dict(zip(list2,list1))"
   ]
  },
  {
   "cell_type": "code",
   "execution_count": 24,
   "id": "650d3668-e560-4c9b-bb63-12ab402cde7b",
   "metadata": {},
   "outputs": [
    {
     "data": {
      "text/plain": [
       "[(1, 'zero'), (2, 'two'), (3, 'three'), (4, 'four')]"
      ]
     },
     "execution_count": 24,
     "metadata": {},
     "output_type": "execute_result"
    }
   ],
   "source": [
    "list(zip(list2,list1))"
   ]
  },
  {
   "cell_type": "markdown",
   "id": "f08bea60-50a7-4656-b204-043400fd37fd",
   "metadata": {},
   "source": [
    "# Sets"
   ]
  },
  {
   "cell_type": "code",
   "execution_count": 2,
   "id": "35b6937a-91ee-4f6d-baae-d87c4ef5f8f5",
   "metadata": {},
   "outputs": [],
   "source": [
    "my_set = {1,1,1,2,3,3,4,5,5,5,6,6,7,7,8,8} #immutable"
   ]
  },
  {
   "cell_type": "code",
   "execution_count": 4,
   "id": "2c120218-d491-43ee-9419-e965e9486730",
   "metadata": {},
   "outputs": [
    {
     "data": {
      "text/plain": [
       "{1, 2, 3, 4, 5, 6, 7, 8}"
      ]
     },
     "execution_count": 4,
     "metadata": {},
     "output_type": "execute_result"
    }
   ],
   "source": [
    "my_set   #don't repeat values\n"
   ]
  },
  {
   "cell_type": "code",
   "execution_count": 5,
   "id": "58995cff-bb3d-47d6-8cfc-7989c19649af",
   "metadata": {},
   "outputs": [],
   "source": [
    "myList = [1,1,1,2,3,3,4,5,5,5,6,6,7,7,8,8]"
   ]
  },
  {
   "cell_type": "code",
   "execution_count": 6,
   "id": "e9376ac0-8c48-4305-9126-3f807fe62803",
   "metadata": {},
   "outputs": [
    {
     "data": {
      "text/plain": [
       "[1, 1, 1, 2, 3, 3, 4, 5, 5, 5, 6, 6, 7, 7, 8, 8]"
      ]
     },
     "execution_count": 6,
     "metadata": {},
     "output_type": "execute_result"
    }
   ],
   "source": [
    "myList"
   ]
  },
  {
   "cell_type": "code",
   "execution_count": 8,
   "id": "cba1ae21-3447-49fe-9b9a-4600e3c433b8",
   "metadata": {},
   "outputs": [
    {
     "data": {
      "text/plain": [
       "[1, 2, 3, 4, 5, 6, 7, 8]"
      ]
     },
     "execution_count": 8,
     "metadata": {},
     "output_type": "execute_result"
    }
   ],
   "source": [
    "list(set(myList))"
   ]
  },
  {
   "cell_type": "code",
   "execution_count": 9,
   "id": "0f16ff43-c617-43e6-92b5-502686a8fe17",
   "metadata": {},
   "outputs": [],
   "source": [
    "my_set.add(9)"
   ]
  },
  {
   "cell_type": "code",
   "execution_count": 11,
   "id": "401cfb34-de86-43ed-87b8-439879a1c04e",
   "metadata": {},
   "outputs": [
    {
     "data": {
      "text/plain": [
       "{1, 2, 3, 4, 5, 6, 7, 8, 9}"
      ]
     },
     "execution_count": 11,
     "metadata": {},
     "output_type": "execute_result"
    }
   ],
   "source": [
    "my_set  #it do not have order"
   ]
  },
  {
   "cell_type": "code",
   "execution_count": 12,
   "id": "c580ee7d-7c54-41dc-be37-edb498b6b729",
   "metadata": {},
   "outputs": [],
   "source": [
    "my_set.remove(4)  #when you give value which is not present it will give error but discard will not giive any error"
   ]
  },
  {
   "cell_type": "code",
   "execution_count": 13,
   "id": "903b4e3c-8ea6-4a4d-8cd6-1e615d646934",
   "metadata": {},
   "outputs": [
    {
     "data": {
      "text/plain": [
       "{1, 2, 3, 5, 6, 7, 8, 9}"
      ]
     },
     "execution_count": 13,
     "metadata": {},
     "output_type": "execute_result"
    }
   ],
   "source": [
    "my_set"
   ]
  },
  {
   "cell_type": "code",
   "execution_count": 14,
   "id": "c791c0b0-a29e-4df2-a67f-3be72ff7e488",
   "metadata": {},
   "outputs": [
    {
     "data": {
      "text/plain": [
       "{1, 2, 3, 6, 7, 8, 9}"
      ]
     },
     "execution_count": 14,
     "metadata": {},
     "output_type": "execute_result"
    }
   ],
   "source": [
    "my_set.discard(5) #two ways to delete remove and discard\n",
    "my_set"
   ]
  },
  {
   "cell_type": "code",
   "execution_count": 15,
   "id": "1cf26fef-c337-4d0b-bcf8-7f0042af688b",
   "metadata": {},
   "outputs": [],
   "source": [
    "set = {11,22,33,41,2}"
   ]
  },
  {
   "cell_type": "code",
   "execution_count": 18,
   "id": "51854f98-00c5-4d9e-8a04-08f40fe6f1e3",
   "metadata": {},
   "outputs": [],
   "source": [
    "my_set.update(set)"
   ]
  },
  {
   "cell_type": "code",
   "execution_count": 19,
   "id": "c5da5963-024d-4eae-a5d5-f558f954b365",
   "metadata": {},
   "outputs": [
    {
     "data": {
      "text/plain": [
       "{1, 2, 3, 6, 7, 8, 9, 11, 22, 33, 41}"
      ]
     },
     "execution_count": 19,
     "metadata": {},
     "output_type": "execute_result"
    }
   ],
   "source": [
    "my_set"
   ]
  },
  {
   "cell_type": "markdown",
   "id": "ee175b8e-db7b-4903-b453-d77c7709c5ef",
   "metadata": {},
   "source": [
    "# Tuple"
   ]
  },
  {
   "cell_type": "code",
   "execution_count": 20,
   "id": "0e22ca1a-9907-4399-addb-21f82ce53eb4",
   "metadata": {},
   "outputs": [],
   "source": [
    "my_tuple = (1,2,3,4,5,5) #immutable but double allowed"
   ]
  },
  {
   "cell_type": "code",
   "execution_count": 21,
   "id": "3490bcc2-8d08-4fb5-9713-ff04fac50edd",
   "metadata": {},
   "outputs": [
    {
     "data": {
      "text/plain": [
       "(1, 2, 3, 4, 5, 5)"
      ]
     },
     "execution_count": 21,
     "metadata": {},
     "output_type": "execute_result"
    }
   ],
   "source": [
    "my_tuple"
   ]
  },
  {
   "cell_type": "code",
   "execution_count": 22,
   "id": "bb056850-7b70-4d3d-9835-280e598e5e21",
   "metadata": {},
   "outputs": [
    {
     "data": {
      "text/plain": [
       "3"
      ]
     },
     "execution_count": 22,
     "metadata": {},
     "output_type": "execute_result"
    }
   ],
   "source": [
    "my_tuple[2]"
   ]
  },
  {
   "cell_type": "code",
   "execution_count": 23,
   "id": "126db838-db9c-4ba2-a9dc-c98ff4112c48",
   "metadata": {},
   "outputs": [
    {
     "ename": "TypeError",
     "evalue": "'tuple' object does not support item assignment",
     "output_type": "error",
     "traceback": [
      "\u001b[1;31m---------------------------------------------------------------------------\u001b[0m",
      "\u001b[1;31mTypeError\u001b[0m                                 Traceback (most recent call last)",
      "Cell \u001b[1;32mIn[23], line 1\u001b[0m\n\u001b[1;32m----> 1\u001b[0m my_tuple[\u001b[38;5;241m3\u001b[39m]\u001b[38;5;241m=\u001b[39m\u001b[38;5;241m6\u001b[39m\n",
      "\u001b[1;31mTypeError\u001b[0m: 'tuple' object does not support item assignment"
     ]
    }
   ],
   "source": []
  },
  {
   "cell_type": "code",
   "execution_count": 24,
   "id": "821c1738-4534-4aa5-9739-9c820dc2b648",
   "metadata": {},
   "outputs": [],
   "source": [
    "tuple = my_tuple[1:4]"
   ]
  },
  {
   "cell_type": "code",
   "execution_count": 25,
   "id": "036a2993-1dbc-4c72-a31e-04107eb0be2b",
   "metadata": {},
   "outputs": [
    {
     "data": {
      "text/plain": [
       "(2, 3, 4)"
      ]
     },
     "execution_count": 25,
     "metadata": {},
     "output_type": "execute_result"
    }
   ],
   "source": [
    "tuple"
   ]
  },
  {
   "cell_type": "code",
   "execution_count": null,
   "id": "61efee14-d271-41de-abd0-47b2a5b8c87f",
   "metadata": {},
   "outputs": [],
   "source": [
    "if(condition):{\n",
    "    stmt\n",
    "    stmt  #other lang\n",
    "    stmt\n",
    "    stmt\n",
    "    \n",
    "}"
   ]
  },
  {
   "cell_type": "code",
   "execution_count": null,
   "id": "785842a6-10a1-469f-81ba-e58a3777869e",
   "metadata": {},
   "outputs": [],
   "source": [
    "if(condition):\n",
    "    stmt\n",
    "    stmt\n",
    "    stmt  #python\n",
    "    stmt\n",
    "    \n",
    "stmt"
   ]
  },
  {
   "cell_type": "code",
   "execution_count": 26,
   "id": "f1fd29f9-a306-4e94-8daa-29cf2469ea8d",
   "metadata": {},
   "outputs": [],
   "source": [
    "x=5   "
   ]
  },
  {
   "cell_type": "code",
   "execution_count": 27,
   "id": "ed4e6e6c-e26b-43ec-8b98-217094de405c",
   "metadata": {},
   "outputs": [
    {
     "name": "stdout",
     "output_type": "stream",
     "text": [
      "x is greater than 2\n",
      "less than 2\n"
     ]
    }
   ],
   "source": [
    "if(x>2):\n",
    "    print(\"x is greater than 2\")\n",
    "print(\"less than 2\") "
   ]
  },
  {
   "cell_type": "code",
   "execution_count": 28,
   "id": "b2cc2559-e939-4fa6-a8be-c5d68e7b38ae",
   "metadata": {},
   "outputs": [
    {
     "name": "stdout",
     "output_type": "stream",
     "text": [
      "less than 2\n"
     ]
    }
   ],
   "source": [
    "if(x<2):\n",
    "    print(\"x is greater than 2\")\n",
    "print(\"less than 2\") "
   ]
  },
  {
   "cell_type": "code",
   "execution_count": 31,
   "id": "aa15ef11-245d-4d8b-8cde-c02ca9b23418",
   "metadata": {},
   "outputs": [
    {
     "name": "stdout",
     "output_type": "stream",
     "text": [
      "x is greater than 2\n",
      "i am outside the block\n"
     ]
    }
   ],
   "source": [
    "if(x>2):\n",
    "    print(\"x is greater than 2\")\n",
    "elif(x <4):\n",
    "     print(\"x is less than 4\")\n",
    "elif(x <5):\n",
    "     print(\"x is less than 5\")\n",
    "else:\n",
    "     print(\"x is less than 4\")\n",
    "print(\"i am outside the block\")     \n",
    "    \n"
   ]
  },
  {
   "cell_type": "code",
   "execution_count": null,
   "id": "dc3a7ecb-f3d6-43c3-b153-fc0664ed86b1",
   "metadata": {},
   "outputs": [],
   "source": [
    "initialization of that varibale \n",
    "while(condition) : #loop\n",
    "    stmt\n",
    "    stmt\n",
    "    stmt  #python\n",
    "    increment/decrement\n",
    "    \n",
    "stmt"
   ]
  },
  {
   "cell_type": "code",
   "execution_count": 36,
   "id": "150af6f9-f169-4e2c-939b-51e37427e7ef",
   "metadata": {},
   "outputs": [
    {
     "name": "stdout",
     "output_type": "stream",
     "text": [
      "0\n",
      "1\n",
      "2\n",
      "3\n",
      "4\n",
      "5\n",
      "6\n",
      "7\n",
      "8\n",
      "9\n",
      "10\n"
     ]
    }
   ],
   "source": [
    "x = 0\n",
    "while(x<=10):\n",
    "    print(x)\n",
    "    x +=1\n",
    "    "
   ]
  },
  {
   "cell_type": "code",
   "execution_count": 37,
   "id": "19170c7c-94c5-4da4-8740-1d6052cfb91f",
   "metadata": {},
   "outputs": [
    {
     "name": "stdout",
     "output_type": "stream",
     "text": [
      "10\n",
      "9\n",
      "8\n",
      "7\n",
      "6\n",
      "5\n",
      "4\n",
      "3\n",
      "2\n",
      "1\n",
      "0\n"
     ]
    }
   ],
   "source": [
    "x = 10\n",
    "while(x>=0):\n",
    "    print(x)\n",
    "    x -=1"
   ]
  },
  {
   "cell_type": "code",
   "execution_count": 40,
   "id": "ad574a0a-f655-4895-aba7-0c0231daf224",
   "metadata": {},
   "outputs": [
    {
     "name": "stdout",
     "output_type": "stream",
     "text": [
      "1\n",
      "2\n",
      "3\n",
      "4\n",
      "5\n",
      "6\n",
      "7\n",
      "8\n",
      "9\n",
      "10\n"
     ]
    }
   ],
   "source": [
    "for i in range(1,11):\n",
    "    print(i)"
   ]
  },
  {
   "cell_type": "code",
   "execution_count": 43,
   "id": "5b22c2ff-244d-4c65-b013-3b0e2127882b",
   "metadata": {},
   "outputs": [
    {
     "data": {
      "text/plain": [
       "[1, 2, 3, 4, 5, 6, 7, 8, 9, 10]"
      ]
     },
     "execution_count": 43,
     "metadata": {},
     "output_type": "execute_result"
    }
   ],
   "source": [
    "[i for i in range(1,11)] #better way [List COmprehension]"
   ]
  },
  {
   "cell_type": "code",
   "execution_count": 44,
   "id": "6aa8b658-d734-4166-9366-926c307ab3e6",
   "metadata": {},
   "outputs": [],
   "source": [
    "x=(1,2,3,4,5,6)"
   ]
  },
  {
   "cell_type": "code",
   "execution_count": 46,
   "id": "52480593-957c-4c0f-9587-37fe9772e752",
   "metadata": {},
   "outputs": [
    {
     "name": "stdout",
     "output_type": "stream",
     "text": [
      "1\n",
      "2\n",
      "3\n",
      "4\n",
      "5\n",
      "6\n"
     ]
    }
   ],
   "source": [
    "for i in x:\n",
    "    print(i)"
   ]
  },
  {
   "cell_type": "code",
   "execution_count": 47,
   "id": "d6dcc9b6-0256-4de3-abd3-ebca2b631e18",
   "metadata": {},
   "outputs": [],
   "source": [
    "my_dict = {0:'zero', 1:'one'}"
   ]
  },
  {
   "cell_type": "code",
   "execution_count": 50,
   "id": "8dde4ec8-8168-44c9-8379-06c5b5af22cc",
   "metadata": {},
   "outputs": [
    {
     "name": "stdout",
     "output_type": "stream",
     "text": [
      "0 zero\n",
      "1 one\n"
     ]
    }
   ],
   "source": [
    "for key,value in my_dict.items() :\n",
    "    print(key,value)\n",
    "\n"
   ]
  },
  {
   "cell_type": "code",
   "execution_count": 52,
   "id": "a72d4de8-19b2-4852-8080-74a7f377537c",
   "metadata": {},
   "outputs": [
    {
     "name": "stdout",
     "output_type": "stream",
     "text": [
      "0==>zero\n",
      "1==>one\n"
     ]
    }
   ],
   "source": [
    "for key,value in my_dict.items() :\n",
    "    print(str(key) + \"==>\" +value)"
   ]
  },
  {
   "cell_type": "code",
   "execution_count": 53,
   "id": "7b510ad9-9350-4b43-a53a-fea902e11a3a",
   "metadata": {},
   "outputs": [
    {
     "name": "stdout",
     "output_type": "stream",
     "text": [
      "0\n",
      "1\n"
     ]
    }
   ],
   "source": [
    "for key in my_dict.keys() :\n",
    "    print(str(key))"
   ]
  },
  {
   "cell_type": "code",
   "execution_count": 57,
   "id": "5fc7212a-654a-4347-a2eb-f9a203e4a9df",
   "metadata": {},
   "outputs": [
    {
     "name": "stdout",
     "output_type": "stream",
     "text": [
      "m\n",
      "a\n",
      "c\n",
      "h\n",
      "i\n",
      "n\n",
      "e\n",
      " \n",
      " \n",
      "l\n",
      "e\n",
      "a\n",
      "r\n",
      "n\n",
      "i\n",
      "n\n",
      "g\n"
     ]
    }
   ],
   "source": [
    "for i in \"machine  learning\":\n",
    "    print(i)\n"
   ]
  },
  {
   "cell_type": "code",
   "execution_count": 58,
   "id": "4c97bc9e-63ee-41c6-bc70-0b8de8a8d3a6",
   "metadata": {},
   "outputs": [
    {
     "data": {
      "text/plain": [
       "['M',\n",
       " 'a',\n",
       " 'c',\n",
       " 'h',\n",
       " 'i',\n",
       " 'n',\n",
       " 'e',\n",
       " ' ',\n",
       " 'l',\n",
       " 'e',\n",
       " 'a',\n",
       " 'r',\n",
       " 'n',\n",
       " 'i',\n",
       " 'n',\n",
       " 'g']"
      ]
     },
     "execution_count": 58,
     "metadata": {},
     "output_type": "execute_result"
    }
   ],
   "source": [
    "[i for i in \"Machine learning\"]"
   ]
  },
  {
   "cell_type": "code",
   "execution_count": null,
   "id": "912e56a1-137f-43be-834f-5a436e8d0e1a",
   "metadata": {},
   "outputs": [],
   "source": []
  }
 ],
 "metadata": {
  "kernelspec": {
   "display_name": "Python 3 (ipykernel)",
   "language": "python",
   "name": "python3"
  },
  "language_info": {
   "codemirror_mode": {
    "name": "ipython",
    "version": 3
   },
   "file_extension": ".py",
   "mimetype": "text/x-python",
   "name": "python",
   "nbconvert_exporter": "python",
   "pygments_lexer": "ipython3",
   "version": "3.12.7"
  }
 },
 "nbformat": 4,
 "nbformat_minor": 5
}
