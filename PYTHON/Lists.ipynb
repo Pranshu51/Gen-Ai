{
 "cells": [
  {
   "cell_type": "markdown",
   "id": "d63bb2da-50be-49a9-b48d-c00b6dd93ae6",
   "metadata": {},
   "source": [
    "# LISTS\n",
    " #### ->Length of a list\n",
    " #### ->Fetch vaues form list\n",
    " #### ->Lists are mutable\n",
    " #### ->Negative indexing\n",
    " #### ->List-out OF Range\n",
    " #### ->Solve List OUt Of Range problems\n",
    " #### ->List Slicing\n",
    " #### ->Print list in Revere ORder\n",
    " #### ->Print every Nth elment of a list\n",
    " #### ->Print every Nth elment of a list in reverse order\n",
    " #### ->add new value ot the end of the list(append method)\n",
    " #### ->Insert new value at a particular position in a list(Insert method)\n",
    " #### ->Remove values form a list(remove mehtod)\n",
    " #### ->Remove a non existing value in a list(Remove MEthod -THrows Error)\n",
    " #### ->Remvoe element(POp method) Sort the list (Sort MEthod)\n",
    " #### ->List in Reverse ORder(Reverse method)\n",
    " #### ->min max sum memhtods\n",
    " ####  ->string list\n",
    " #### ->Boolena list\n",
    " #### ->MIxed list\n",
    " #### ->JOin the elmenets in a list\n",
    " #### ->Removing an elemnt from a mixed data types list\n",
    " #### ->JOining mixd data types list element is NOT possible\n",
    " #### ->Add Two LIsts\n",
    " #### ->Nested Lists- Check type and fetch values\n",
    " \n"
   ]
  },
  {
   "cell_type": "code",
   "execution_count": 3,
   "id": "ae60f53a-6f3b-4acd-8b96-12fda403136c",
   "metadata": {},
   "outputs": [],
   "source": [
    "my_lists=[1,2,3,4,5,6,\"Machine Learning\",[8,9,10]]\n"
   ]
  },
  {
   "cell_type": "code",
   "execution_count": 4,
   "id": "dca8bd5a-a87a-49cd-9b8a-ab22cef80277",
   "metadata": {},
   "outputs": [
    {
     "data": {
      "text/plain": [
       "[1, 2, 3, 4, 5, 6, 'Machine Learning', [8, 9, 10]]"
      ]
     },
     "execution_count": 4,
     "metadata": {},
     "output_type": "execute_result"
    }
   ],
   "source": [
    "my_lists"
   ]
  },
  {
   "cell_type": "code",
   "execution_count": 6,
   "id": "a8ec5aa8-90a1-4eed-ab98-2e66c4a4484b",
   "metadata": {},
   "outputs": [
    {
     "data": {
      "text/plain": [
       "4"
      ]
     },
     "execution_count": 6,
     "metadata": {},
     "output_type": "execute_result"
    }
   ],
   "source": [
    "my_lists[3]"
   ]
  },
  {
   "cell_type": "code",
   "execution_count": 7,
   "id": "0e1d1508-db8b-4950-bc8a-8ac3e03ecdad",
   "metadata": {},
   "outputs": [
    {
     "data": {
      "text/plain": [
       "[3, 4, 5]"
      ]
     },
     "execution_count": 7,
     "metadata": {},
     "output_type": "execute_result"
    }
   ],
   "source": [
    "my_lists[2:5]"
   ]
  },
  {
   "cell_type": "code",
   "execution_count": 10,
   "id": "3be37046-9025-44e2-b87d-e8f35d65c8de",
   "metadata": {},
   "outputs": [
    {
     "data": {
      "text/plain": [
       "[8, 9, 10]"
      ]
     },
     "execution_count": 10,
     "metadata": {},
     "output_type": "execute_result"
    }
   ],
   "source": [
    "my_lists[-1]"
   ]
  },
  {
   "cell_type": "code",
   "execution_count": 12,
   "id": "b9dbf464-63e4-4ff8-9eba-9cf3d82cc667",
   "metadata": {},
   "outputs": [
    {
     "data": {
      "text/plain": [
       "9"
      ]
     },
     "execution_count": 12,
     "metadata": {},
     "output_type": "execute_result"
    }
   ],
   "source": [
    "my_lists[-1][1]"
   ]
  },
  {
   "cell_type": "code",
   "execution_count": 15,
   "id": "7361f1fb-a24c-47fe-83f8-50dd54df62d8",
   "metadata": {},
   "outputs": [],
   "source": [
    "my_lists[-1] =23 #mutable"
   ]
  },
  {
   "cell_type": "code",
   "execution_count": 14,
   "id": "4fcc5502-e6b2-4998-ba78-a0df6703425c",
   "metadata": {},
   "outputs": [
    {
     "data": {
      "text/plain": [
       "[1, 2, 3, 4, 5, 6, 'Machine Learning', 23]"
      ]
     },
     "execution_count": 14,
     "metadata": {},
     "output_type": "execute_result"
    }
   ],
   "source": [
    "my_lists"
   ]
  },
  {
   "cell_type": "code",
   "execution_count": 16,
   "id": "a1009d95-03ea-40c4-a32e-4c2f0b7582cf",
   "metadata": {},
   "outputs": [
    {
     "data": {
      "text/plain": [
       "[1, 3, 5, 'Machine Learning']"
      ]
     },
     "execution_count": 16,
     "metadata": {},
     "output_type": "execute_result"
    }
   ],
   "source": [
    "my_lists[::2]"
   ]
  },
  {
   "cell_type": "code",
   "execution_count": 18,
   "id": "2211fc58-1e99-449d-be4d-bae0d5f784b7",
   "metadata": {},
   "outputs": [
    {
     "data": {
      "text/plain": [
       "[23, 'Machine Learning', 6, 5, 4, 3, 2, 1]"
      ]
     },
     "execution_count": 18,
     "metadata": {},
     "output_type": "execute_result"
    }
   ],
   "source": [
    "my_lists[::-1] #Reverse Order"
   ]
  },
  {
   "cell_type": "code",
   "execution_count": 19,
   "id": "9ebc7894-8db5-4a17-baeb-e061d16d8002",
   "metadata": {},
   "outputs": [],
   "source": [
    "x=[1,2,3,4,5,6]"
   ]
  },
  {
   "cell_type": "code",
   "execution_count": 25,
   "id": "15913ec5-df2d-465a-a83e-d683d1994e8b",
   "metadata": {},
   "outputs": [
    {
     "data": {
      "text/plain": [
       "[1, 2, 3, 4, 5, 6, 7, 7, 7, 8, 8]"
      ]
     },
     "execution_count": 25,
     "metadata": {},
     "output_type": "execute_result"
    }
   ],
   "source": [
    "x.append(8)\n",
    "x"
   ]
  },
  {
   "cell_type": "code",
   "execution_count": 26,
   "id": "9caa5b1f-8d3d-4501-b395-2f46a51a438a",
   "metadata": {},
   "outputs": [
    {
     "data": {
      "text/plain": [
       "[1, 2, 0, 3, 4, 5, 6, 7, 7, 7, 8, 8]"
      ]
     },
     "execution_count": 26,
     "metadata": {},
     "output_type": "execute_result"
    }
   ],
   "source": [
    "x.insert(2,0)\n",
    "x"
   ]
  },
  {
   "cell_type": "code",
   "execution_count": 27,
   "id": "7abf6ba0-104c-4e5e-be73-5c0f902345d3",
   "metadata": {},
   "outputs": [
    {
     "data": {
      "text/plain": [
       "[1, 2, [1, 2, 3], 0, 3, 4, 5, 6, 7, 7, 7, 8, 8]"
      ]
     },
     "execution_count": 27,
     "metadata": {},
     "output_type": "execute_result"
    }
   ],
   "source": [
    "x.insert(2,[1,2,3])\n",
    "x"
   ]
  },
  {
   "cell_type": "code",
   "execution_count": 5,
   "id": "3d20a411-96a3-47c7-a004-d4ba4b365271",
   "metadata": {},
   "outputs": [],
   "source": [
    "my_list = [1,2,3,4,5]"
   ]
  },
  {
   "cell_type": "code",
   "execution_count": 6,
   "id": "b39e9390-1540-4b8e-ad88-157b5da62088",
   "metadata": {},
   "outputs": [],
   "source": [
    "my_list.remove(1)"
   ]
  },
  {
   "cell_type": "code",
   "execution_count": 7,
   "id": "45e9c5d4-b5c1-42b2-a4f8-c0ab94ea7dc2",
   "metadata": {},
   "outputs": [
    {
     "name": "stdout",
     "output_type": "stream",
     "text": [
      "[2, 3, 4, 5]\n"
     ]
    }
   ],
   "source": [
    "print(my_list)\n"
   ]
  },
  {
   "cell_type": "code",
   "execution_count": 8,
   "id": "a3169ab6-7020-44a2-ab55-f3c0875c0ac9",
   "metadata": {},
   "outputs": [],
   "source": [
    "my_list.insert(0,1)"
   ]
  },
  {
   "cell_type": "code",
   "execution_count": 9,
   "id": "032a666a-f5a0-42e8-8d76-d9c418cba406",
   "metadata": {},
   "outputs": [
    {
     "data": {
      "text/plain": [
       "5"
      ]
     },
     "execution_count": 9,
     "metadata": {},
     "output_type": "execute_result"
    }
   ],
   "source": [
    "my_list.pop()"
   ]
  },
  {
   "cell_type": "code",
   "execution_count": 10,
   "id": "71f1c5d1-bd54-4fa1-bf4a-64d6caf61481",
   "metadata": {},
   "outputs": [
    {
     "data": {
      "text/plain": [
       "2"
      ]
     },
     "execution_count": 10,
     "metadata": {},
     "output_type": "execute_result"
    }
   ],
   "source": [
    "my_list.pop(1)"
   ]
  },
  {
   "cell_type": "code",
   "execution_count": 11,
   "id": "d18f09a0-8158-406e-86e0-2a82dd9c9270",
   "metadata": {},
   "outputs": [
    {
     "data": {
      "text/plain": [
       "[1, 3, 4]"
      ]
     },
     "execution_count": 11,
     "metadata": {},
     "output_type": "execute_result"
    }
   ],
   "source": [
    "my_list\n"
   ]
  },
  {
   "cell_type": "code",
   "execution_count": 12,
   "id": "f464aa3e-1b3e-48f7-a4f4-8f58a6f2dc39",
   "metadata": {},
   "outputs": [],
   "source": [
    "my_list.reverse() #it will not provide you the sorting kind of thing it will only provide you the reversal order"
   ]
  },
  {
   "cell_type": "code",
   "execution_count": 13,
   "id": "3a3b4260-9c91-4e70-aaa1-b1b62dc5e3e8",
   "metadata": {},
   "outputs": [
    {
     "data": {
      "text/plain": [
       "[4, 3, 1]"
      ]
     },
     "execution_count": 13,
     "metadata": {},
     "output_type": "execute_result"
    }
   ],
   "source": [
    "my_list\n"
   ]
  },
  {
   "cell_type": "code",
   "execution_count": 15,
   "id": "952664e0-052d-4965-ab74-542d3603a1db",
   "metadata": {},
   "outputs": [
    {
     "data": {
      "text/plain": [
       "1"
      ]
     },
     "execution_count": 15,
     "metadata": {},
     "output_type": "execute_result"
    }
   ],
   "source": [
    "min(my_list)\n"
   ]
  },
  {
   "cell_type": "code",
   "execution_count": 16,
   "id": "1f8067e9-b66e-4026-ada0-0599b73b19f4",
   "metadata": {},
   "outputs": [
    {
     "data": {
      "text/plain": [
       "4"
      ]
     },
     "execution_count": 16,
     "metadata": {},
     "output_type": "execute_result"
    }
   ],
   "source": [
    "max(my_list)"
   ]
  },
  {
   "cell_type": "code",
   "execution_count": 18,
   "id": "de579d6b-35d2-420a-bfe4-cd327f7aefec",
   "metadata": {},
   "outputs": [
    {
     "data": {
      "text/plain": [
       "8"
      ]
     },
     "execution_count": 18,
     "metadata": {},
     "output_type": "execute_result"
    }
   ],
   "source": [
    "sum(my_list)"
   ]
  },
  {
   "cell_type": "code",
   "execution_count": 19,
   "id": "c5df45e8-1e46-4930-bf91-551229c4bedb",
   "metadata": {},
   "outputs": [],
   "source": [
    "import numpy as np\n"
   ]
  },
  {
   "cell_type": "code",
   "execution_count": 20,
   "id": "d6a90ae3-b2a6-4f7b-a83f-c870db36dc33",
   "metadata": {},
   "outputs": [
    {
     "data": {
      "text/plain": [
       "2.6666666666666665"
      ]
     },
     "execution_count": 20,
     "metadata": {},
     "output_type": "execute_result"
    }
   ],
   "source": [
    "np.mean(my_list)"
   ]
  },
  {
   "cell_type": "code",
   "execution_count": 21,
   "id": "1aa408c3-a2e8-487e-aa15-edce7c50cb66",
   "metadata": {},
   "outputs": [],
   "source": [
    "my_list = [1,2,34,5,6] #if list have[true false ] then alsi it is  list--.t could be of any datat type mixed iwth all the boolean ,string ,integer etc..."
   ]
  },
  {
   "cell_type": "code",
   "execution_count": 22,
   "id": "3d811eb9-376f-4d42-8dbc-6b17e3ce390c",
   "metadata": {},
   "outputs": [
    {
     "data": {
      "text/plain": [
       "list"
      ]
     },
     "execution_count": 22,
     "metadata": {},
     "output_type": "execute_result"
    }
   ],
   "source": [
    "type(my_list)"
   ]
  },
  {
   "cell_type": "code",
   "execution_count": 24,
   "id": "5f4356ab-90e0-402f-9d53-e93d53180195",
   "metadata": {},
   "outputs": [
    {
     "data": {
      "text/plain": [
       "list"
      ]
     },
     "execution_count": 24,
     "metadata": {},
     "output_type": "execute_result"
    }
   ],
   "source": [
    "my_list = ['one','two','Three'] # it doesn't affect that whether you write list in stringor number it will be a list anyway\n",
    "type(my_list)"
   ]
  },
  {
   "cell_type": "code",
   "execution_count": 25,
   "id": "b38df783-cd33-4094-95e5-cae7557b3a91",
   "metadata": {},
   "outputs": [],
   "source": [
    "mylist = [1,'one',2,3,4,my_list]"
   ]
  },
  {
   "cell_type": "code",
   "execution_count": 26,
   "id": "6081e05c-ea4b-41d6-a43f-95a7c06e1f90",
   "metadata": {},
   "outputs": [
    {
     "data": {
      "text/plain": [
       "[1, 'one', 2, 3, 4, ['one', 'two', 'Three']]"
      ]
     },
     "execution_count": 26,
     "metadata": {},
     "output_type": "execute_result"
    }
   ],
   "source": [
    "mylist\n",
    "\n"
   ]
  },
  {
   "cell_type": "markdown",
   "id": "4de857dd-4df0-4b04-8495-1c33438093bc",
   "metadata": {},
   "source": [
    "sep.join(listname)"
   ]
  },
  {
   "cell_type": "code",
   "execution_count": 29,
   "id": "84fedafb-4dcc-4d64-8202-dfd4224867e7",
   "metadata": {},
   "outputs": [
    {
     "data": {
      "text/plain": [
       "'one,two,Three'"
      ]
     },
     "execution_count": 29,
     "metadata": {},
     "output_type": "execute_result"
    }
   ],
   "source": [
    "','.join(my_list) # string seperator"
   ]
  },
  {
   "cell_type": "markdown",
   "id": "aefdb948-6bbd-4ccc-9cef-3b6a2d1b6ab0",
   "metadata": {},
   "source": [
    "','.join(mylist) #we can only join string not other"
   ]
  },
  {
   "cell_type": "code",
   "execution_count": 30,
   "id": "4cf9af30-19d1-479b-b878-792dcac32ad5",
   "metadata": {},
   "outputs": [
    {
     "data": {
      "text/plain": [
       "[1, 'one', 2, 3, 4, ['one', 'two', 'Three']]"
      ]
     },
     "execution_count": 30,
     "metadata": {},
     "output_type": "execute_result"
    }
   ],
   "source": [
    "mylist"
   ]
  },
  {
   "cell_type": "code",
   "execution_count": 32,
   "id": "d5452761-28bf-47c2-ae12-6c8163bfe5b8",
   "metadata": {},
   "outputs": [],
   "source": [
    "mylist.insert(4,4)"
   ]
  },
  {
   "cell_type": "code",
   "execution_count": 33,
   "id": "26b84c7d-1deb-4bb8-82d6-1fb92c80c112",
   "metadata": {},
   "outputs": [
    {
     "data": {
      "text/plain": [
       "['one', 'two', 'Three']"
      ]
     },
     "execution_count": 33,
     "metadata": {},
     "output_type": "execute_result"
    }
   ],
   "source": [
    "mylist.pop(-1)"
   ]
  },
  {
   "cell_type": "code",
   "execution_count": 34,
   "id": "a5afb238-0124-49c3-a36c-570f6056c1a6",
   "metadata": {},
   "outputs": [
    {
     "data": {
      "text/plain": [
       "[1, 'one', 2, 3, 4]"
      ]
     },
     "execution_count": 34,
     "metadata": {},
     "output_type": "execute_result"
    }
   ],
   "source": [
    "mylist"
   ]
  },
  {
   "cell_type": "code",
   "execution_count": 42,
   "id": "15f79fb4-b51e-40e8-a3e7-749aa93a197d",
   "metadata": {},
   "outputs": [
    {
     "data": {
      "text/plain": [
       "[1, 'one', 2, 3, 4]"
      ]
     },
     "execution_count": 42,
     "metadata": {},
     "output_type": "execute_result"
    }
   ],
   "source": [
    "mylist = mylist[::-1]\n",
    "mylist"
   ]
  },
  {
   "cell_type": "code",
   "execution_count": 37,
   "id": "6b27a54c-f604-4248-87f8-8d1c0c9d5575",
   "metadata": {},
   "outputs": [
    {
     "data": {
      "text/plain": [
       "[4, 3, 2, 'one', 1]"
      ]
     },
     "execution_count": 37,
     "metadata": {},
     "output_type": "execute_result"
    }
   ],
   "source": [
    "mylist.reverse()\n",
    "mylist"
   ]
  },
  {
   "cell_type": "code",
   "execution_count": 43,
   "id": "da82f165-bd44-4f3e-90e6-5201d3db83b2",
   "metadata": {},
   "outputs": [
    {
     "data": {
      "text/plain": [
       "[4, 3, 2, 'one', 1]"
      ]
     },
     "execution_count": 43,
     "metadata": {},
     "output_type": "execute_result"
    }
   ],
   "source": [
    "mylist = mylist[::-1]\n",
    "mylist"
   ]
  },
  {
   "cell_type": "code",
   "execution_count": 44,
   "id": "40226fe4-aeac-4f45-86c2-fdf957de5fa1",
   "metadata": {},
   "outputs": [
    {
     "data": {
      "text/plain": [
       "[1, 'one', 2, 3, 4]"
      ]
     },
     "execution_count": 44,
     "metadata": {},
     "output_type": "execute_result"
    }
   ],
   "source": [
    "mylist = mylist[::-1]\n",
    "mylist"
   ]
  },
  {
   "cell_type": "code",
   "execution_count": 45,
   "id": "eba1ec84-51b5-4401-8416-7a39dd0a519d",
   "metadata": {},
   "outputs": [
    {
     "data": {
      "text/plain": [
       "1"
      ]
     },
     "execution_count": 45,
     "metadata": {},
     "output_type": "execute_result"
    }
   ],
   "source": [
    "mylist[0]"
   ]
  },
  {
   "cell_type": "code",
   "execution_count": 46,
   "id": "4acfdd34-7522-43d5-80ba-7a3d9a3d2c81",
   "metadata": {},
   "outputs": [
    {
     "data": {
      "text/plain": [
       "int"
      ]
     },
     "execution_count": 46,
     "metadata": {},
     "output_type": "execute_result"
    }
   ],
   "source": [
    "type(mylist[0])"
   ]
  },
  {
   "cell_type": "code",
   "execution_count": 47,
   "id": "99c21de3-3bb4-4850-8a73-a98d4d87820d",
   "metadata": {},
   "outputs": [
    {
     "data": {
      "text/plain": [
       "'one'"
      ]
     },
     "execution_count": 47,
     "metadata": {},
     "output_type": "execute_result"
    }
   ],
   "source": [
    "mylist[1]"
   ]
  },
  {
   "cell_type": "code",
   "execution_count": 49,
   "id": "9d4a91e9-0b20-4fff-99c1-14ed50951343",
   "metadata": {},
   "outputs": [
    {
     "data": {
      "text/plain": [
       "str"
      ]
     },
     "execution_count": 49,
     "metadata": {},
     "output_type": "execute_result"
    }
   ],
   "source": [
    "type(mylist[1])"
   ]
  },
  {
   "cell_type": "code",
   "execution_count": 51,
   "id": "262bbec8-8b66-45ab-a1a7-d6fb8742fc2a",
   "metadata": {},
   "outputs": [
    {
     "data": {
      "text/plain": [
       "[1, 'one', 2, 3, 4, 'one', 'two', 'Three']"
      ]
     },
     "execution_count": 51,
     "metadata": {},
     "output_type": "execute_result"
    }
   ],
   "source": [
    "mylist + my_list #concat"
   ]
  },
  {
   "cell_type": "code",
   "execution_count": 52,
   "id": "c57d9aa4-5266-491f-8b47-0cbccea9b6ad",
   "metadata": {},
   "outputs": [],
   "source": [
    "mylist1 = [1,2,3,4]"
   ]
  },
  {
   "cell_type": "code",
   "execution_count": 54,
   "id": "6572ba1e-0ab7-4bdb-bb6c-d02d737838d3",
   "metadata": {},
   "outputs": [],
   "source": [
    "mylist2 = [1,2,3,4,5]"
   ]
  },
  {
   "cell_type": "code",
   "execution_count": 57,
   "id": "5661e67d-c844-4f81-958d-5a86864e2ce0",
   "metadata": {},
   "outputs": [
    {
     "data": {
      "text/plain": [
       "[2, 4, 6, 8, 10]"
      ]
     },
     "execution_count": 57,
     "metadata": {},
     "output_type": "execute_result"
    }
   ],
   "source": [
    "[i+j for i,j in zip(mylist1,mylist2)] #assume 5"
   ]
  },
  {
   "cell_type": "code",
   "execution_count": null,
   "id": "531b7006-69d1-4623-98c7-542e5fa7a892",
   "metadata": {},
   "outputs": [],
   "source": []
  }
 ],
 "metadata": {
  "kernelspec": {
   "display_name": "Python 3 (ipykernel)",
   "language": "python",
   "name": "python3"
  },
  "language_info": {
   "codemirror_mode": {
    "name": "ipython",
    "version": 3
   },
   "file_extension": ".py",
   "mimetype": "text/x-python",
   "name": "python",
   "nbconvert_exporter": "python",
   "pygments_lexer": "ipython3",
   "version": "3.12.7"
  }
 },
 "nbformat": 4,
 "nbformat_minor": 5
}
