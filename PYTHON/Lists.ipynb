{
 "cells": [
  {
   "cell_type": "markdown",
   "id": "d63bb2da-50be-49a9-b48d-c00b6dd93ae6",
   "metadata": {},
   "source": [
    "# LISTS\n",
    " #### ->Length of a list\n",
    " #### ->Fetch vaues form list\n",
    " #### ->Lists are mutable\n",
    " #### ->Negative indexing\n",
    " #### ->List-out OF Range\n",
    " #### ->Solve List OUt Of Range problems\n",
    " #### ->List Slicing\n",
    " #### ->Print list in Revere ORder\n",
    " #### ->Print every Nth elment of a list\n",
    " #### ->Print every Nth elment of a list in reverse order\n",
    " #### ->add new value ot the end of the list(append method)\n",
    " #### ->Insert new value at a particular position in a list(Insert method)\n",
    " #### ->Remove values form a list(remove mehtod)\n",
    " #### ->Remove a non existing value in a list(Remove MEthod -THrows Error)\n",
    " #### ->Remvoe element(POp method) Sort the list (Sort MEthod)\n",
    " #### ->List in Reverse ORder(Reverse method)\n",
    " #### ->min max sum memhtods\n",
    " ####  ->string list\n",
    " #### ->Boolena list\n",
    " #### ->MIxed list\n",
    " #### ->JOin the elmenets in a list\n",
    " #### ->Removing an elemnt from a mixed data types list\n",
    " #### ->JOining mixd data types list element is NOT possible\n",
    " #### ->Add Two LIsts\n",
    " #### ->Nested Lists- Check type and fetch values\n",
    " \n"
   ]
  },
  {
   "cell_type": "code",
   "execution_count": 3,
   "id": "ae60f53a-6f3b-4acd-8b96-12fda403136c",
   "metadata": {},
   "outputs": [],
   "source": [
    "my_lists=[1,2,3,4,5,6,\"Machine Learning\",[8,9,10]]\n"
   ]
  },
  {
   "cell_type": "code",
   "execution_count": 4,
   "id": "dca8bd5a-a87a-49cd-9b8a-ab22cef80277",
   "metadata": {},
   "outputs": [
    {
     "data": {
      "text/plain": [
       "[1, 2, 3, 4, 5, 6, 'Machine Learning', [8, 9, 10]]"
      ]
     },
     "execution_count": 4,
     "metadata": {},
     "output_type": "execute_result"
    }
   ],
   "source": [
    "my_lists"
   ]
  },
  {
   "cell_type": "code",
   "execution_count": 6,
   "id": "a8ec5aa8-90a1-4eed-ab98-2e66c4a4484b",
   "metadata": {},
   "outputs": [
    {
     "data": {
      "text/plain": [
       "4"
      ]
     },
     "execution_count": 6,
     "metadata": {},
     "output_type": "execute_result"
    }
   ],
   "source": [
    "my_lists[3]"
   ]
  },
  {
   "cell_type": "code",
   "execution_count": 7,
   "id": "0e1d1508-db8b-4950-bc8a-8ac3e03ecdad",
   "metadata": {},
   "outputs": [
    {
     "data": {
      "text/plain": [
       "[3, 4, 5]"
      ]
     },
     "execution_count": 7,
     "metadata": {},
     "output_type": "execute_result"
    }
   ],
   "source": [
    "my_lists[2:5]"
   ]
  },
  {
   "cell_type": "code",
   "execution_count": 10,
   "id": "3be37046-9025-44e2-b87d-e8f35d65c8de",
   "metadata": {},
   "outputs": [
    {
     "data": {
      "text/plain": [
       "[8, 9, 10]"
      ]
     },
     "execution_count": 10,
     "metadata": {},
     "output_type": "execute_result"
    }
   ],
   "source": [
    "my_lists[-1]"
   ]
  },
  {
   "cell_type": "code",
   "execution_count": 12,
   "id": "b9dbf464-63e4-4ff8-9eba-9cf3d82cc667",
   "metadata": {},
   "outputs": [
    {
     "data": {
      "text/plain": [
       "9"
      ]
     },
     "execution_count": 12,
     "metadata": {},
     "output_type": "execute_result"
    }
   ],
   "source": [
    "my_lists[-1][1]"
   ]
  },
  {
   "cell_type": "code",
   "execution_count": 15,
   "id": "7361f1fb-a24c-47fe-83f8-50dd54df62d8",
   "metadata": {},
   "outputs": [],
   "source": [
    "my_lists[-1] =23 #mutable"
   ]
  },
  {
   "cell_type": "code",
   "execution_count": 14,
   "id": "4fcc5502-e6b2-4998-ba78-a0df6703425c",
   "metadata": {},
   "outputs": [
    {
     "data": {
      "text/plain": [
       "[1, 2, 3, 4, 5, 6, 'Machine Learning', 23]"
      ]
     },
     "execution_count": 14,
     "metadata": {},
     "output_type": "execute_result"
    }
   ],
   "source": [
    "my_lists"
   ]
  },
  {
   "cell_type": "code",
   "execution_count": 16,
   "id": "a1009d95-03ea-40c4-a32e-4c2f0b7582cf",
   "metadata": {},
   "outputs": [
    {
     "data": {
      "text/plain": [
       "[1, 3, 5, 'Machine Learning']"
      ]
     },
     "execution_count": 16,
     "metadata": {},
     "output_type": "execute_result"
    }
   ],
   "source": [
    "my_lists[::2]"
   ]
  },
  {
   "cell_type": "code",
   "execution_count": 18,
   "id": "2211fc58-1e99-449d-be4d-bae0d5f784b7",
   "metadata": {},
   "outputs": [
    {
     "data": {
      "text/plain": [
       "[23, 'Machine Learning', 6, 5, 4, 3, 2, 1]"
      ]
     },
     "execution_count": 18,
     "metadata": {},
     "output_type": "execute_result"
    }
   ],
   "source": [
    "my_lists[::-1] #Reverse Order"
   ]
  },
  {
   "cell_type": "code",
   "execution_count": 19,
   "id": "9ebc7894-8db5-4a17-baeb-e061d16d8002",
   "metadata": {},
   "outputs": [],
   "source": [
    "x=[1,2,3,4,5,6]"
   ]
  },
  {
   "cell_type": "code",
   "execution_count": 25,
   "id": "15913ec5-df2d-465a-a83e-d683d1994e8b",
   "metadata": {},
   "outputs": [
    {
     "data": {
      "text/plain": [
       "[1, 2, 3, 4, 5, 6, 7, 7, 7, 8, 8]"
      ]
     },
     "execution_count": 25,
     "metadata": {},
     "output_type": "execute_result"
    }
   ],
   "source": [
    "x.append(8)\n",
    "x"
   ]
  },
  {
   "cell_type": "code",
   "execution_count": 26,
   "id": "9caa5b1f-8d3d-4501-b395-2f46a51a438a",
   "metadata": {},
   "outputs": [
    {
     "data": {
      "text/plain": [
       "[1, 2, 0, 3, 4, 5, 6, 7, 7, 7, 8, 8]"
      ]
     },
     "execution_count": 26,
     "metadata": {},
     "output_type": "execute_result"
    }
   ],
   "source": [
    "x.insert(2,0)\n",
    "x"
   ]
  },
  {
   "cell_type": "code",
   "execution_count": 27,
   "id": "7abf6ba0-104c-4e5e-be73-5c0f902345d3",
   "metadata": {},
   "outputs": [
    {
     "data": {
      "text/plain": [
       "[1, 2, [1, 2, 3], 0, 3, 4, 5, 6, 7, 7, 7, 8, 8]"
      ]
     },
     "execution_count": 27,
     "metadata": {},
     "output_type": "execute_result"
    }
   ],
   "source": [
    "x.insert(2,[1,2,3])\n",
    "x"
   ]
  },
  {
   "cell_type": "code",
   "execution_count": null,
   "id": "3d20a411-96a3-47c7-a004-d4ba4b365271",
   "metadata": {},
   "outputs": [],
   "source": []
  }
 ],
 "metadata": {
  "kernelspec": {
   "display_name": "Python 3 (ipykernel)",
   "language": "python",
   "name": "python3"
  },
  "language_info": {
   "codemirror_mode": {
    "name": "ipython",
    "version": 3
   },
   "file_extension": ".py",
   "mimetype": "text/x-python",
   "name": "python",
   "nbconvert_exporter": "python",
   "pygments_lexer": "ipython3",
   "version": "3.12.7"
  }
 },
 "nbformat": 4,
 "nbformat_minor": 5
}
