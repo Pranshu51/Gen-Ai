{
 "cells": [
  {
   "cell_type": "markdown",
   "id": "f9181579-30c0-407d-8a5a-24c7dce0715f",
   "metadata": {},
   "source": [
    "# Class"
   ]
  },
  {
   "cell_type": "code",
   "execution_count": 4,
   "id": "2dabc4e3-5cc1-45c6-b62f-9ca1c6a32c45",
   "metadata": {},
   "outputs": [
    {
     "name": "stdout",
     "output_type": "stream",
     "text": [
      "<__main__.class1 object at 0x0000011DA1DB9E80>\n",
      "Pranshu\n",
      "jatin\n"
     ]
    }
   ],
   "source": [
    "class class1:\n",
    "    v1 = 'Pranshu'\n",
    "    v2 =  \"jatin\"\n",
    "    v3 = 1\n",
    "obj1 = class1()\n",
    "print(obj1)\n",
    "print(obj1.v1)\n",
    "print(obj1.v2)"
   ]
  },
  {
   "cell_type": "code",
   "execution_count": 5,
   "id": "3d714211-1ecf-4f4f-8f8b-e2a575da42c5",
   "metadata": {},
   "outputs": [
    {
     "name": "stdout",
     "output_type": "stream",
     "text": [
      "ashish\n"
     ]
    }
   ],
   "source": [
    "obj2 = class1()\n",
    "obj2.v3 = \"ashish\"\n",
    "print(obj2.v3)"
   ]
  },
  {
   "cell_type": "code",
   "execution_count": 7,
   "id": "9cead76b-92f4-4bb8-89f2-b59c7d6d1725",
   "metadata": {},
   "outputs": [
    {
     "name": "stdout",
     "output_type": "stream",
     "text": [
      "name --> king\n"
     ]
    }
   ],
   "source": [
    "class class2:\n",
    "    v1 = 'Pranshu'\n",
    "    v2 =  \"jatin\"\n",
    "    def abc(self):\n",
    "        print(\"name -->\",self.name)\n",
    "\n",
    "obj3 = class2()\n",
    "obj3.name = \"king\"\n",
    "obj3.abc()\n",
    "\n",
    "\n",
    "\n",
    "\n"
   ]
  },
  {
   "cell_type": "code",
   "execution_count": 12,
   "id": "99269e8d-b833-4b3e-826a-6c46c3f80e07",
   "metadata": {},
   "outputs": [
    {
     "name": "stdout",
     "output_type": "stream",
     "text": [
      "sachin\n",
      "name --> sachin\n"
     ]
    }
   ],
   "source": [
    "class class3:\n",
    "     def __init__(self,name):\n",
    "        self.name =name\n",
    "        roll_no =1\n",
    "     def abc(self):\n",
    "         print(\"name -->\",self.name)\n",
    "         \n",
    "obj4 = class3(\"sachin\")\n",
    "print(obj4.name)\n",
    "obj4.abc()\n",
    "\n",
    "\n"
   ]
  }
 ],
 "metadata": {
  "kernelspec": {
   "display_name": "Python 3 (ipykernel)",
   "language": "python",
   "name": "python3"
  },
  "language_info": {
   "codemirror_mode": {
    "name": "ipython",
    "version": 3
   },
   "file_extension": ".py",
   "mimetype": "text/x-python",
   "name": "python",
   "nbconvert_exporter": "python",
   "pygments_lexer": "ipython3",
   "version": "3.12.7"
  }
 },
 "nbformat": 4,
 "nbformat_minor": 5
}
