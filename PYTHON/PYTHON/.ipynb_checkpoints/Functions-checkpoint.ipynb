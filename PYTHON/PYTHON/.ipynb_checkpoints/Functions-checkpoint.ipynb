{
 "cells": [
  {
   "cell_type": "markdown",
   "id": "b1383bd4-936e-46ed-b126-7686161b47b2",
   "metadata": {},
   "source": [
    "# Functions"
   ]
  },
  {
   "cell_type": "code",
   "execution_count": 9,
   "id": "5878e23d-703b-4ca6-932f-35d76d4d4342",
   "metadata": {},
   "outputs": [],
   "source": [
    "# Function with no parameters\n",
    "def function1():\n",
    "    print(\"Hello and Welcome Dosto\")"
   ]
  },
  {
   "cell_type": "code",
   "execution_count": 10,
   "id": "1d1723fd-0fbc-4c1b-9c98-28e08a3f9a92",
   "metadata": {},
   "outputs": [
    {
     "name": "stdout",
     "output_type": "stream",
     "text": [
      "Hello and Welcome Dosto\n"
     ]
    }
   ],
   "source": [
    "function1()  # Output: Hello and Welcome Dosto"
   ]
  },
  {
   "cell_type": "code",
   "execution_count": 11,
   "id": "61be305b-85f7-4482-ab8c-d33e2222b631",
   "metadata": {},
   "outputs": [
    {
     "name": "stdout",
     "output_type": "stream",
     "text": [
      "Hello and Welcome Dosto to dsa course\n"
     ]
    }
   ],
   "source": [
    "# Function with one parameter (with space)\n",
    "def function2(plus):\n",
    "    print(\"Hello and Welcome Dosto\", plus)\n",
    "function2('to dsa course')  # Output: Hello and Welcome Dosto to dsa course    "
   ]
  },
  {
   "cell_type": "code",
   "execution_count": 12,
   "id": "5dbd6758-5b7f-4159-ad8d-0614252caada",
   "metadata": {},
   "outputs": [
    {
     "name": "stdout",
     "output_type": "stream",
     "text": [
      "Hello and Welcome Dosto to 5 minutes engineering\n"
     ]
    }
   ],
   "source": [
    "# Function with one parameter (concatenated)\n",
    "def function2(plus):\n",
    "    print(\"Hello and Welcome Dosto\" + plus)\n",
    "function2(' to 5 minutes engineering')  # Output: Hello and Welcome Dosto to 5 minutes engineering\n",
    "    "
   ]
  },
  {
   "cell_type": "code",
   "execution_count": 13,
   "id": "c4126433-75a3-4a00-8aba-9be14f0cd394",
   "metadata": {},
   "outputs": [
    {
     "name": "stdout",
     "output_type": "stream",
     "text": [
      "shridhar_mankar\n"
     ]
    }
   ],
   "source": [
    "# Function with two parameters\n",
    "def name(fname, lname):\n",
    "    print(fname + \"_\" + lname)  # Uses underscore instead of space\n",
    "name('shridhar', 'mankar')  # Output: shridhar_mankar"
   ]
  },
  {
   "cell_type": "code",
   "execution_count": null,
   "id": "d065acd9-ef50-4f7d-bf56-daa47351758d",
   "metadata": {},
   "outputs": [],
   "source": []
  },
  {
   "cell_type": "code",
   "execution_count": null,
   "id": "4cf135d6-9fa6-40d9-b207-130abf494666",
   "metadata": {},
   "outputs": [],
   "source": []
  },
  {
   "cell_type": "code",
   "execution_count": null,
   "id": "7cf1803a-19e1-4eb3-81c4-22ffbef95876",
   "metadata": {},
   "outputs": [],
   "source": []
  },
  {
   "cell_type": "code",
   "execution_count": null,
   "id": "719e74a6-99b2-4e76-ae3a-ccd543ce0b5d",
   "metadata": {},
   "outputs": [],
   "source": []
  },
  {
   "cell_type": "code",
   "execution_count": null,
   "id": "f63d2659-25f5-47fb-a3a9-37a102205a9d",
   "metadata": {},
   "outputs": [],
   "source": []
  }
 ],
 "metadata": {
  "kernelspec": {
   "display_name": "Python 3 (ipykernel)",
   "language": "python",
   "name": "python3"
  },
  "language_info": {
   "codemirror_mode": {
    "name": "ipython",
    "version": 3
   },
   "file_extension": ".py",
   "mimetype": "text/x-python",
   "name": "python",
   "nbconvert_exporter": "python",
   "pygments_lexer": "ipython3",
   "version": "3.12.7"
  }
 },
 "nbformat": 4,
 "nbformat_minor": 5
}
