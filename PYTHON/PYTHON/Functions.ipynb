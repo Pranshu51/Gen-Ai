{
 "cells": [
  {
   "cell_type": "markdown",
   "id": "b1383bd4-936e-46ed-b126-7686161b47b2",
   "metadata": {},
   "source": [
    "# Functions"
   ]
  },
  {
   "cell_type": "code",
   "execution_count": 2,
   "id": "5878e23d-703b-4ca6-932f-35d76d4d4342",
   "metadata": {},
   "outputs": [],
   "source": [
    "# Function with no parameters\n",
    "def function1():\n",
    "    print(\"Hello and Welcome Dosto\")"
   ]
  },
  {
   "cell_type": "code",
   "execution_count": 3,
   "id": "1d1723fd-0fbc-4c1b-9c98-28e08a3f9a92",
   "metadata": {},
   "outputs": [
    {
     "name": "stdout",
     "output_type": "stream",
     "text": [
      "Hello and Welcome Dosto\n"
     ]
    }
   ],
   "source": [
    "function1()  # Output: Hello and Welcome Dosto"
   ]
  },
  {
   "cell_type": "code",
   "execution_count": 4,
   "id": "61be305b-85f7-4482-ab8c-d33e2222b631",
   "metadata": {},
   "outputs": [
    {
     "name": "stdout",
     "output_type": "stream",
     "text": [
      "Hello and Welcome Dosto to dsa course\n"
     ]
    }
   ],
   "source": [
    "# Function with one parameter (with space)\n",
    "def function2(plus):\n",
    "    print(\"Hello and Welcome Dosto\", plus)\n",
    "function2('to dsa course')  # Output: Hello and Welcome Dosto to dsa course    "
   ]
  },
  {
   "cell_type": "code",
   "execution_count": 5,
   "id": "5dbd6758-5b7f-4159-ad8d-0614252caada",
   "metadata": {},
   "outputs": [
    {
     "name": "stdout",
     "output_type": "stream",
     "text": [
      "Hello and Welcome Dostokaise ho\n"
     ]
    }
   ],
   "source": [
    "# Function with one parameter (concatenated)\n",
    "def function2(plus):\n",
    "    print(\"Hello and Welcome Dosto\" + plus)\n",
    "function2('kaise ho')  # Output: Hello and Welcome Dosto kaise ho\n",
    "    "
   ]
  },
  {
   "cell_type": "code",
   "execution_count": 6,
   "id": "c4126433-75a3-4a00-8aba-9be14f0cd394",
   "metadata": {},
   "outputs": [
    {
     "name": "stdout",
     "output_type": "stream",
     "text": [
      "shridhar_mankar\n"
     ]
    }
   ],
   "source": [
    "# Function with two parameters\n",
    "def name(fname, lname):\n",
    "    print(fname + \"_\" + lname)  # Uses underscore instead of space\n",
    "name('shridhar', 'mankar')  # Output: shridhar_mankar"
   ]
  },
  {
   "cell_type": "code",
   "execution_count": 7,
   "id": "d065acd9-ef50-4f7d-bf56-daa47351758d",
   "metadata": {},
   "outputs": [
    {
     "name": "stdout",
     "output_type": "stream",
     "text": [
      "rajendra_mankar\n"
     ]
    }
   ],
   "source": [
    "name('rajendra', 'mankar')  # Output: rajendra mankar"
   ]
  },
  {
   "cell_type": "code",
   "execution_count": 8,
   "id": "4cf135d6-9fa6-40d9-b207-130abf494666",
   "metadata": {},
   "outputs": [
    {
     "name": "stdout",
     "output_type": "stream",
     "text": [
      "Hello and Welcome Dosto to 5 minutes engineering and to dsa course\n"
     ]
    }
   ],
   "source": [
    "# 2. Function with *args (variable arguments)\n",
    "def function2(*plus):\n",
    "    print(\"Hello and Welcome Dosto\", plus[0], plus[1], plus[2])\n",
    "\n",
    "function2('to gen ai course', 'and', 'to dsa course')\n",
    "# Output: Hello and Welcome Dosto to 5 minutes engineering and to dsa course"
   ]
  },
  {
   "cell_type": "code",
   "execution_count": 9,
   "id": "7cf1803a-19e1-4eb3-81c4-22ffbef95876",
   "metadata": {},
   "outputs": [
    {
     "name": "stdout",
     "output_type": "stream",
     "text": [
      "shridhar mankar\n"
     ]
    }
   ],
   "source": [
    "# 3. Function with keyword arguments\n",
    "def name1(lname, fname):\n",
    "    print(fname + \" \" + lname)\n",
    "\n",
    "name1(fname='shridhar', lname='mankar')  # Output: shridhar mankar"
   ]
  },
  {
   "cell_type": "code",
   "execution_count": 10,
   "id": "719e74a6-99b2-4e76-ae3a-ccd543ce0b5d",
   "metadata": {},
   "outputs": [
    {
     "name": "stdout",
     "output_type": "stream",
     "text": [
      "shridhar mankar\n"
     ]
    }
   ],
   "source": [
    "# 4. Function with **kwargs (dictionary arguments)\n",
    "def name2(**student):\n",
    "    print(student['fname'] + \" \" + student['lname'])\n",
    "\n",
    "name2(fname='shridhar', lname='mankar')  # Output: shridhar mankar"
   ]
  },
  {
   "cell_type": "code",
   "execution_count": 11,
   "id": "f63d2659-25f5-47fb-a3a9-37a102205a9d",
   "metadata": {},
   "outputs": [
    {
     "name": "stdout",
     "output_type": "stream",
     "text": [
      "Alice Bob Charlie\n"
     ]
    }
   ],
   "source": [
    "# 5. Function with dictionary arguments (multiple students)\n",
    "def name3(**students):\n",
    "    print(students['s1'], students['s2'], students['s3'])\n",
    "\n",
    "# Example usage for name3:\n",
    "name3(s1='Alice', s2='Bob', s3='Charlie')  # Output: Alice Bob Charlie"
   ]
  },
  {
   "cell_type": "code",
   "execution_count": 12,
   "id": "a71ac6f1-9b80-414f-8eed-9feec9528130",
   "metadata": {},
   "outputs": [
    {
     "name": "stdout",
     "output_type": "stream",
     "text": [
      "Hello and Welcome Dosto to dsa course\n",
      "Hello and Welcome Dosto to 5 minutes engineering\n"
     ]
    }
   ],
   "source": [
    "# Function with default parameter\n",
    "def function2(plus='to 5 minutes engineering'):\n",
    "    print(\"Hello and Welcome Dosto\", plus)\n",
    "\n",
    "function2('to dsa course')  # Output: Hello and Welcome Dosto to dsa course\n",
    "function2()  # Output: Hello and Welcome Dosto to 5 minutes engineering"
   ]
  },
  {
   "cell_type": "code",
   "execution_count": 13,
   "id": "f51a1b03-aa8b-441a-bcc1-783e9500a4c5",
   "metadata": {},
   "outputs": [
    {
     "data": {
      "text/plain": [
       "3"
      ]
     },
     "execution_count": 13,
     "metadata": {},
     "output_type": "execute_result"
    }
   ],
   "source": [
    "# Function with return value\n",
    "def sum_fun(a, b):\n",
    "    c = a + b\n",
    "    return c\n",
    "sum_fun(1, 2)  # Returns 3"
   ]
  },
  {
   "cell_type": "code",
   "execution_count": 14,
   "id": "b0fb955c-5078-4c99-98ce-90bcb32c9a86",
   "metadata": {},
   "outputs": [
    {
     "data": {
      "text/plain": [
       "5"
      ]
     },
     "execution_count": 14,
     "metadata": {},
     "output_type": "execute_result"
    }
   ],
   "source": [
    "sum_fun(2, 3)  # Returns 5"
   ]
  }
 ],
 "metadata": {
  "kernelspec": {
   "display_name": "Python 3 (ipykernel)",
   "language": "python",
   "name": "python3"
  },
  "language_info": {
   "codemirror_mode": {
    "name": "ipython",
    "version": 3
   },
   "file_extension": ".py",
   "mimetype": "text/x-python",
   "name": "python",
   "nbconvert_exporter": "python",
   "pygments_lexer": "ipython3",
   "version": "3.12.7"
  }
 },
 "nbformat": 4,
 "nbformat_minor": 5
}
