{
 "cells": [
  {
   "cell_type": "code",
   "execution_count": 1,
   "id": "3848200d-48f0-4251-a332-bfd0360574e6",
   "metadata": {},
   "outputs": [],
   "source": [
    "x = 10\n",
    "y = 20\n",
    "z = 10"
   ]
  },
  {
   "cell_type": "code",
   "execution_count": 2,
   "id": "471b22c5-4e50-4bdf-9313-b8a78772b1e4",
   "metadata": {},
   "outputs": [
    {
     "name": "stdout",
     "output_type": "stream",
     "text": [
      "not equal\n"
     ]
    }
   ],
   "source": [
    "if x != y:\n",
    "    print('not equal')"
   ]
  },
  {
   "cell_type": "code",
   "execution_count": 3,
   "id": "01afcc42-69b5-4b1b-b301-80dc98938750",
   "metadata": {},
   "outputs": [
    {
     "name": "stdout",
     "output_type": "stream",
     "text": [
      "equal\n"
     ]
    }
   ],
   "source": [
    "if x == z:\n",
    "    print('equal')"
   ]
  },
  {
   "cell_type": "code",
   "execution_count": 4,
   "id": "c9bd6fcf-d5f4-4803-823b-b1f80beb5b0e",
   "metadata": {},
   "outputs": [
    {
     "name": "stdout",
     "output_type": "stream",
     "text": [
      "x is less then y\n"
     ]
    }
   ],
   "source": [
    "if x < y:\n",
    "    print('x is less then y')"
   ]
  },
  {
   "cell_type": "code",
   "execution_count": 5,
   "id": "cbe13b7e-2878-4dd1-8de9-328a4de70735",
   "metadata": {},
   "outputs": [
    {
     "name": "stdout",
     "output_type": "stream",
     "text": [
      "y is greater then x\n"
     ]
    }
   ],
   "source": [
    "if y > x:\n",
    "    print('y is greater then x')"
   ]
  },
  {
   "cell_type": "code",
   "execution_count": 6,
   "id": "4bd9be4f-5af3-4a5b-8101-871f6d5c6750",
   "metadata": {},
   "outputs": [
    {
     "name": "stdout",
     "output_type": "stream",
     "text": [
      "2 conditions\n"
     ]
    }
   ],
   "source": [
    "if x <= y and x <= z:\n",
    "    print('2 conditions')"
   ]
  },
  {
   "cell_type": "code",
   "execution_count": null,
   "id": "276e715b-61ac-4d03-81c6-bec11a20b66f",
   "metadata": {},
   "outputs": [],
   "source": []
  }
 ],
 "metadata": {
  "kernelspec": {
   "display_name": "Python 3 (ipykernel)",
   "language": "python",
   "name": "python3"
  },
  "language_info": {
   "codemirror_mode": {
    "name": "ipython",
    "version": 3
   },
   "file_extension": ".py",
   "mimetype": "text/x-python",
   "name": "python",
   "nbconvert_exporter": "python",
   "pygments_lexer": "ipython3",
   "version": "3.12.7"
  }
 },
 "nbformat": 4,
 "nbformat_minor": 5
}
