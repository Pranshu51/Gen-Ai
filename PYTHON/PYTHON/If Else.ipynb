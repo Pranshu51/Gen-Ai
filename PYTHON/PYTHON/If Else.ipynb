{
 "cells": [
  {
   "cell_type": "code",
   "execution_count": 2,
   "id": "3848200d-48f0-4251-a332-bfd0360574e6",
   "metadata": {},
   "outputs": [],
   "source": [
    "x = 10\n",
    "y = 20\n",
    "z = 10"
   ]
  },
  {
   "cell_type": "code",
   "execution_count": 2,
   "id": "471b22c5-4e50-4bdf-9313-b8a78772b1e4",
   "metadata": {},
   "outputs": [
    {
     "name": "stdout",
     "output_type": "stream",
     "text": [
      "not equal\n"
     ]
    }
   ],
   "source": [
    "if x != y:\n",
    "    print('not equal')"
   ]
  },
  {
   "cell_type": "code",
   "execution_count": 3,
   "id": "01afcc42-69b5-4b1b-b301-80dc98938750",
   "metadata": {},
   "outputs": [
    {
     "name": "stdout",
     "output_type": "stream",
     "text": [
      "equal\n"
     ]
    }
   ],
   "source": [
    "if x == z:\n",
    "    print('equal')"
   ]
  },
  {
   "cell_type": "code",
   "execution_count": 4,
   "id": "c9bd6fcf-d5f4-4803-823b-b1f80beb5b0e",
   "metadata": {},
   "outputs": [
    {
     "name": "stdout",
     "output_type": "stream",
     "text": [
      "x is less then y\n"
     ]
    }
   ],
   "source": [
    "if x < y:\n",
    "    print('x is less then y')"
   ]
  },
  {
   "cell_type": "code",
   "execution_count": 5,
   "id": "cbe13b7e-2878-4dd1-8de9-328a4de70735",
   "metadata": {},
   "outputs": [
    {
     "name": "stdout",
     "output_type": "stream",
     "text": [
      "y is greater then x\n"
     ]
    }
   ],
   "source": [
    "if y > x:\n",
    "    print('y is greater then x')"
   ]
  },
  {
   "cell_type": "code",
   "execution_count": 6,
   "id": "4bd9be4f-5af3-4a5b-8101-871f6d5c6750",
   "metadata": {},
   "outputs": [
    {
     "name": "stdout",
     "output_type": "stream",
     "text": [
      "2 conditions\n"
     ]
    }
   ],
   "source": [
    "if x <= y and x <= z:\n",
    "    print('2 conditions')"
   ]
  },
  {
   "cell_type": "code",
   "execution_count": 3,
   "id": "276e715b-61ac-4d03-81c6-bec11a20b66f",
   "metadata": {},
   "outputs": [
    {
     "name": "stdout",
     "output_type": "stream",
     "text": [
      "2 conditions\n"
     ]
    }
   ],
   "source": [
    "if y >= x and x <= z:\n",
    "    print('2 conditions')"
   ]
  },
  {
   "cell_type": "code",
   "execution_count": 4,
   "id": "e731cbc7-704d-4d21-b106-1d362cc36727",
   "metadata": {},
   "outputs": [
    {
     "name": "stdout",
     "output_type": "stream",
     "text": [
      "2 conditions with or\n"
     ]
    }
   ],
   "source": [
    "if y <= x or x == z:\n",
    "    print('2 conditions with or')"
   ]
  },
  {
   "cell_type": "code",
   "execution_count": 5,
   "id": "c2b36dd5-4c32-4b8f-924b-aaabf4fd2112",
   "metadata": {},
   "outputs": [
    {
     "name": "stdout",
     "output_type": "stream",
     "text": [
      "not part\n"
     ]
    }
   ],
   "source": [
    "if not x == y:\n",
    "    print('not part')"
   ]
  },
  {
   "cell_type": "code",
   "execution_count": 6,
   "id": "ab5353a3-6066-45f6-9c83-890c0e59e942",
   "metadata": {},
   "outputs": [
    {
     "name": "stdout",
     "output_type": "stream",
     "text": [
      "equal\n"
     ]
    }
   ],
   "source": [
    "if x == z:\n",
    "    print('equal')"
   ]
  },
  {
   "cell_type": "code",
   "execution_count": 7,
   "id": "6b8c6ed9-74b1-45b6-8781-d0f7e4138ac2",
   "metadata": {},
   "outputs": [
    {
     "name": "stdout",
     "output_type": "stream",
     "text": [
      "equal\n"
     ]
    }
   ],
   "source": [
    "# Cell 1\n",
    "if x == z: print('equal') #if you have 1 line"
   ]
  },
  {
   "cell_type": "code",
   "execution_count": 8,
   "id": "d9c72dd3-95e4-4e29-8620-06718c17d391",
   "metadata": {},
   "outputs": [
    {
     "name": "stdout",
     "output_type": "stream",
     "text": [
      "equal\n"
     ]
    }
   ],
   "source": [
    "# Cell 2\n",
    "if x == z:\n",
    "    print('equal')  # always executed lineby line always startingpnt runs first then others\n",
    "elif x != y:\n",
    "    print('not equal') # if plan a executed we will not move to plan b\n"
   ]
  },
  {
   "cell_type": "code",
   "execution_count": 9,
   "id": "0a1f1ae3-2412-4da7-978d-473dcd6818e3",
   "metadata": {},
   "outputs": [],
   "source": [
    "# Cell 3\n",
    "if x != z:\n",
    "    print('equal')\n",
    "elif x == y:\n",
    "    print('not equal')"
   ]
  },
  {
   "cell_type": "code",
   "execution_count": 10,
   "id": "28f4391b-322d-436a-b073-f083531ab5cc",
   "metadata": {},
   "outputs": [
    {
     "name": "stdout",
     "output_type": "stream",
     "text": [
      "not equal\n"
     ]
    }
   ],
   "source": [
    "# Cell 4\n",
    "if x != z:\n",
    "    print('equal')\n",
    "elif x != y:\n",
    "    print('not equal')\n"
   ]
  },
  {
   "cell_type": "code",
   "execution_count": 13,
   "id": "dc8c4fa6-84fa-4317-89d2-f0cdd1bd8f97",
   "metadata": {},
   "outputs": [
    {
     "name": "stdout",
     "output_type": "stream",
     "text": [
      "else part\n"
     ]
    }
   ],
   "source": [
    "# Cell 5\n",
    "if x != z:\n",
    "    print('equal')\n",
    "elif x == y:\n",
    "    print('not equal')\n",
    "else:\n",
    "    print('else part')"
   ]
  },
  {
   "cell_type": "code",
   "execution_count": 14,
   "id": "afd6ac3c-2d58-494b-a8b1-26588eff4383",
   "metadata": {},
   "outputs": [
    {
     "name": "stdout",
     "output_type": "stream",
     "text": [
      "if part\n"
     ]
    }
   ],
   "source": [
    "# - Ternary operator example\n",
    "print(\"if part\") if y > x else print(\"else part\")"
   ]
  },
  {
   "cell_type": "code",
   "execution_count": 15,
   "id": "228a6e2c-cad5-42f8-bd93-91f67f7dcaf0",
   "metadata": {},
   "outputs": [
    {
     "name": "stdout",
     "output_type": "stream",
     "text": [
      "else part\n"
     ]
    }
   ],
   "source": [
    "#  - Ternary operator example\n",
    "print(\"if part\") if x > y else print(\"else part\")"
   ]
  },
  {
   "cell_type": "code",
   "execution_count": 16,
   "id": "abc4280c-ced3-406f-be36-740d83b7af30",
   "metadata": {},
   "outputs": [
    {
     "name": "stdout",
     "output_type": "stream",
     "text": [
      "equal\n",
      "else part\n"
     ]
    }
   ],
   "source": [
    "# Cell 4 - Nested if statement\n",
    "if x != y:\n",
    "    print('equal')\n",
    "    if x < y:\n",
    "        print('else part')"
   ]
  },
  {
   "cell_type": "markdown",
   "id": "d1531230-83cd-4048-b2fa-2857484bcd81",
   "metadata": {},
   "source": [
    "# For Loop"
   ]
  },
  {
   "cell_type": "code",
   "execution_count": 17,
   "id": "20f88259-de7a-4a79-9d28-9647b924f3f2",
   "metadata": {},
   "outputs": [
    {
     "name": "stdout",
     "output_type": "stream",
     "text": [
      "100\n",
      "70\n",
      "40\n",
      "10\n",
      "80\n",
      "50\n",
      "20\n",
      "90\n",
      "60\n",
      "30\n"
     ]
    }
   ],
   "source": [
    "# Iterate through set2\n",
    "set2 = {10, 20, 30, 40, 50, 60, 70, 80, 90, 100}\n",
    "for i in set2:\n",
    "    print(i)"
   ]
  },
  {
   "cell_type": "code",
   "execution_count": 18,
   "id": "a1e1a46e-23ec-4d9a-94c7-673300e6c6cd",
   "metadata": {},
   "outputs": [
    {
     "name": "stdout",
     "output_type": "stream",
     "text": [
      "0\n",
      "1\n",
      "2\n",
      "3\n",
      "4\n",
      "5\n",
      "6\n",
      "7\n",
      "8\n",
      "9\n"
     ]
    }
   ],
   "source": [
    "# Iterate through set1\n",
    "set1 = {0, 1, 2, 3, 4, 5, 6, 7, 8, 9}\n",
    "for i in set1:\n",
    "    print(i)"
   ]
  },
  {
   "cell_type": "code",
   "execution_count": 19,
   "id": "f4a66978-3863-4cf9-b000-e8631d834647",
   "metadata": {},
   "outputs": [
    {
     "name": "stdout",
     "output_type": "stream",
     "text": [
      "0\n",
      "1\n",
      "2\n",
      "3\n",
      "4\n"
     ]
    }
   ],
   "source": [
    "# Loop with break statement - stops when i==5\n",
    "for i in set1:\n",
    "    if i == 5:\n",
    "        break\n",
    "    print(i)"
   ]
  },
  {
   "cell_type": "code",
   "execution_count": 20,
   "id": "56a121b5-ce04-4967-86f9-a3a26207fa57",
   "metadata": {},
   "outputs": [
    {
     "name": "stdout",
     "output_type": "stream",
     "text": [
      "0\n",
      "1\n",
      "2\n",
      "3\n",
      "4\n",
      "6\n",
      "7\n",
      "8\n",
      "9\n"
     ]
    }
   ],
   "source": [
    "# Loop with continue statement - skips when i==5\n",
    "for i in set1:\n",
    "    if i == 5:\n",
    "        continue #current stmt skip\n",
    "    print(i)"
   ]
  },
  {
   "cell_type": "code",
   "execution_count": 21,
   "id": "17060108-7b0b-4c93-9ff3-eea62761001f",
   "metadata": {},
   "outputs": [
    {
     "name": "stdout",
     "output_type": "stream",
     "text": [
      "s\n",
      "h\n",
      "r\n",
      "i\n",
      "d\n",
      "h\n",
      "a\n",
      "r\n"
     ]
    }
   ],
   "source": [
    "# Iterate through each character in a string\n",
    "for i in 'shridhar':\n",
    "    print(i)"
   ]
  },
  {
   "cell_type": "code",
   "execution_count": 23,
   "id": "86f696f7-666f-45d0-943b-9099de2d4527",
   "metadata": {},
   "outputs": [
    {
     "name": "stdout",
     "output_type": "stream",
     "text": [
      "0\n",
      "1\n",
      "2\n",
      "3\n",
      "4\n",
      "5\n",
      "6\n",
      "7\n",
      "8\n",
      "9\n"
     ]
    }
   ],
   "source": [
    "# Iterate through numbers 0 to 9 using range\n",
    "for i in range(10):\n",
    "    print(i) # isme koi set given nhihota isme ek range de dete h"
   ]
  },
  {
   "cell_type": "code",
   "execution_count": 25,
   "id": "274f894f-4ec3-4b2f-8055-35ed2596a622",
   "metadata": {},
   "outputs": [
    {
     "name": "stdout",
     "output_type": "stream",
     "text": [
      "5\n",
      "6\n",
      "7\n",
      "8\n",
      "9\n"
     ]
    }
   ],
   "source": [
    "# Print numbers from 5 to 9 (inclusive)\n",
    "for i in range(5, 10): #start:5,end:n-1\n",
    "    print(i)"
   ]
  },
  {
   "cell_type": "code",
   "execution_count": 24,
   "id": "237d4eb7-d2fd-42b8-94f9-fd17d8853db6",
   "metadata": {},
   "outputs": [
    {
     "name": "stdout",
     "output_type": "stream",
     "text": [
      "1\n",
      "3\n",
      "5\n",
      "7\n",
      "9\n"
     ]
    }
   ],
   "source": [
    "# Print odd numbers from 1 to 9 (step size 2)\n",
    "for i in range(1, 10, 2):\n",
    "    print(i)  # start:1,end:9,gap:2"
   ]
  },
  {
   "cell_type": "code",
   "execution_count": null,
   "id": "b5e6235d-2e7e-4d18-b8dd-2ae0eaaf94e9",
   "metadata": {},
   "outputs": [],
   "source": []
  },
  {
   "cell_type": "code",
   "execution_count": null,
   "id": "ebc3dde3-b21a-4354-85d7-92576621123d",
   "metadata": {},
   "outputs": [],
   "source": []
  },
  {
   "cell_type": "code",
   "execution_count": null,
   "id": "8e7c9c6a-01ab-4b5e-aa6c-a97a36393061",
   "metadata": {},
   "outputs": [],
   "source": []
  },
  {
   "cell_type": "code",
   "execution_count": null,
   "id": "009566af-fa03-4b79-8083-94c7a8266e37",
   "metadata": {},
   "outputs": [],
   "source": []
  },
  {
   "cell_type": "code",
   "execution_count": null,
   "id": "d7f4c5b7-8501-46a1-b788-6c2f5c20c9a5",
   "metadata": {},
   "outputs": [],
   "source": []
  }
 ],
 "metadata": {
  "kernelspec": {
   "display_name": "Python 3 (ipykernel)",
   "language": "python",
   "name": "python3"
  },
  "language_info": {
   "codemirror_mode": {
    "name": "ipython",
    "version": 3
   },
   "file_extension": ".py",
   "mimetype": "text/x-python",
   "name": "python",
   "nbconvert_exporter": "python",
   "pygments_lexer": "ipython3",
   "version": "3.12.7"
  }
 },
 "nbformat": 4,
 "nbformat_minor": 5
}
