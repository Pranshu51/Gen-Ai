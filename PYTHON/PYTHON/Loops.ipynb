{
 "cells": [
  {
   "cell_type": "markdown",
   "id": "884fdac5-562b-4a04-8f29-6f2397549720",
   "metadata": {},
   "source": [
    "# For Loops"
   ]
  },
  {
   "cell_type": "code",
   "execution_count": 1,
   "id": "1d64e3b1-48e1-4a80-93f1-136a1058a65f",
   "metadata": {},
   "outputs": [
    {
     "name": "stdout",
     "output_type": "stream",
     "text": [
      "0\n",
      "1\n",
      "2\n",
      "3\n",
      "4\n",
      "5\n",
      "6\n",
      "7\n",
      "8\n",
      "9\n"
     ]
    }
   ],
   "source": [
    "# Iterate through set1\n",
    "set1 = {0, 1, 2, 3, 4, 5, 6, 7, 8, 9}\n",
    "for i in set1:\n",
    "    print(i)"
   ]
  },
  {
   "cell_type": "code",
   "execution_count": 2,
   "id": "dc14192f-d816-4227-a038-4660debc893d",
   "metadata": {},
   "outputs": [
    {
     "name": "stdout",
     "output_type": "stream",
     "text": [
      "100\n",
      "70\n",
      "40\n",
      "10\n",
      "80\n",
      "50\n",
      "20\n",
      "90\n",
      "60\n",
      "30\n"
     ]
    }
   ],
   "source": [
    "# Iterate through set2\n",
    "set2 = {10, 20, 30, 40, 50, 60, 70, 80, 90, 100}\n",
    "for i in set2:\n",
    "    print(i)"
   ]
  },
  {
   "cell_type": "code",
   "execution_count": 3,
   "id": "f2a294cb-5413-4b31-a7d8-541fee933c02",
   "metadata": {},
   "outputs": [
    {
     "name": "stdout",
     "output_type": "stream",
     "text": [
      "0\n",
      "1\n",
      "2\n",
      "3\n",
      "4\n",
      "6\n",
      "7\n",
      "8\n",
      "9\n"
     ]
    }
   ],
   "source": [
    "# Loop with continue statement - skips when i==5\n",
    "for i in set1:\n",
    "    if i == 5:\n",
    "        continue #current stmt skip\n",
    "    print(i)"
   ]
  },
  {
   "cell_type": "code",
   "execution_count": 4,
   "id": "b096a183-2613-4e84-bec2-9a9a8f1d168f",
   "metadata": {},
   "outputs": [
    {
     "name": "stdout",
     "output_type": "stream",
     "text": [
      "0\n",
      "1\n",
      "2\n",
      "3\n",
      "4\n"
     ]
    }
   ],
   "source": [
    "# Loop with break statement - stops when i==5\n",
    "for i in set1:\n",
    "    if i == 5:\n",
    "        break\n",
    "    print(i)"
   ]
  },
  {
   "cell_type": "code",
   "execution_count": 5,
   "id": "a40e67e8-0e83-425f-a279-04a279d79ccb",
   "metadata": {},
   "outputs": [
    {
     "name": "stdout",
     "output_type": "stream",
     "text": [
      "s\n",
      "h\n",
      "r\n",
      "i\n",
      "d\n",
      "h\n",
      "a\n",
      "r\n"
     ]
    }
   ],
   "source": [
    "# Iterate through each character in a string\n",
    "for i in 'shridhar':\n",
    "    print(i)"
   ]
  },
  {
   "cell_type": "code",
   "execution_count": 6,
   "id": "154dae95-6cd1-4f95-aaf2-a101f03f42d9",
   "metadata": {},
   "outputs": [
    {
     "name": "stdout",
     "output_type": "stream",
     "text": [
      "0\n",
      "1\n",
      "2\n",
      "3\n",
      "4\n",
      "5\n",
      "6\n",
      "7\n",
      "8\n",
      "9\n"
     ]
    }
   ],
   "source": [
    "# Iterate through numbers 0 to 9 using range\n",
    "for i in range(10):\n",
    "    print(i) # isme koi set given nhihota isme ek range de dete h"
   ]
  },
  {
   "cell_type": "code",
   "execution_count": 7,
   "id": "41771266-a203-4839-a663-cd17867f6db0",
   "metadata": {},
   "outputs": [
    {
     "name": "stdout",
     "output_type": "stream",
     "text": [
      "5\n",
      "6\n",
      "7\n",
      "8\n",
      "9\n"
     ]
    }
   ],
   "source": [
    "# Print numbers from 5 to 9 (inclusive)\n",
    "for i in range(5, 10): #start:5,end:n-1\n",
    "    print(i)"
   ]
  },
  {
   "cell_type": "code",
   "execution_count": 8,
   "id": "5901c008-9fdd-4838-8881-ea756f20aa83",
   "metadata": {},
   "outputs": [
    {
     "name": "stdout",
     "output_type": "stream",
     "text": [
      "1\n",
      "3\n",
      "5\n",
      "7\n",
      "9\n"
     ]
    }
   ],
   "source": [
    "# Print odd numbers from 1 to 9 (step size 2)\n",
    "for i in range(1, 10, 2):\n",
    "    print(i)  # start:1,end:9,gap:2"
   ]
  },
  {
   "cell_type": "markdown",
   "id": "73692445-8bd2-4ac9-96d0-eb025d9d36df",
   "metadata": {},
   "source": [
    "# While Loop"
   ]
  },
  {
   "cell_type": "code",
   "execution_count": 9,
   "id": "38a0a93e-9528-42b4-a9c2-ecd398b75e5c",
   "metadata": {},
   "outputs": [
    {
     "name": "stdout",
     "output_type": "stream",
     "text": [
      "1\n",
      "2\n",
      "3\n",
      "4\n",
      "5\n",
      "6\n",
      "7\n",
      "8\n",
      "9\n"
     ]
    }
   ],
   "source": [
    "# Basic while loop counting from 1 to 9\n",
    "x = 1\n",
    "while x < 10:\n",
    "    print(x)\n",
    "    x += 1"
   ]
  },
  {
   "cell_type": "code",
   "execution_count": 10,
   "id": "88e7a19f-9aba-4518-8f43-778ef3b53a03",
   "metadata": {},
   "outputs": [
    {
     "name": "stdout",
     "output_type": "stream",
     "text": [
      "1\n",
      "2\n",
      "3\n",
      "4\n",
      "5\n"
     ]
    }
   ],
   "source": [
    "# While loop with continue condition at x==5\n",
    "x = 1\n",
    "while x < 10:\n",
    "    x += 1\n",
    "    if x == 5:\n",
    "        continue\n",
    "    print(x)\n",
    "   \n",
    "    "
   ]
  },
  {
   "cell_type": "code",
   "execution_count": null,
   "id": "bb5974fc-75d8-4658-b846-c806060a3711",
   "metadata": {},
   "outputs": [],
   "source": []
  }
 ],
 "metadata": {
  "kernelspec": {
   "display_name": "Python 3 (ipykernel)",
   "language": "python",
   "name": "python3"
  },
  "language_info": {
   "codemirror_mode": {
    "name": "ipython",
    "version": 3
   },
   "file_extension": ".py",
   "mimetype": "text/x-python",
   "name": "python",
   "nbconvert_exporter": "python",
   "pygments_lexer": "ipython3",
   "version": "3.12.7"
  }
 },
 "nbformat": 4,
 "nbformat_minor": 5
}
