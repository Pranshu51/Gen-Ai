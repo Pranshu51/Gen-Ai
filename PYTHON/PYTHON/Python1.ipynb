{
 "cells": [
  {
   "cell_type": "markdown",
   "id": "6c740c66-5ec1-4864-8a3d-ddb636193fdf",
   "metadata": {},
   "source": [
    "# Machine Learning\n"
   ]
  },
  {
   "cell_type": "markdown",
   "id": "1866bcd8-d0ba-47ef-9679-da13903f36c4",
   "metadata": {},
   "source": [
    "escape+m--> markdown  <br>\n",
    "escape+y -->markdown to code again <br>\n",
    "esc+ dd--> to delete a cell block <br>\n",
    "shift+ down/up arrow -->you have to select for multiple block to delete <br>\n",
    "esc+B -> for adding new shell"
   ]
  },
  {
   "cell_type": "markdown",
   "id": "a4faee39-d38b-4db9-91f0-a790a1af8f00",
   "metadata": {},
   "source": [
    "# Special Operator\n",
    "## is;not is in,not in"
   ]
  },
  {
   "cell_type": "code",
   "execution_count": 1,
   "id": "fa0f8a9b-d878-451a-af70-a81213784388",
   "metadata": {},
   "outputs": [],
   "source": [
    "x=[1,2,3,4]"
   ]
  },
  {
   "cell_type": "code",
   "execution_count": 2,
   "id": "dfc6e799-dc12-4446-8515-137ba7387ad4",
   "metadata": {},
   "outputs": [
    {
     "data": {
      "text/plain": [
       "list"
      ]
     },
     "execution_count": 2,
     "metadata": {},
     "output_type": "execute_result"
    }
   ],
   "source": [
    "type(x)"
   ]
  },
  {
   "cell_type": "code",
   "execution_count": 3,
   "id": "95c94fe2-5a26-4b61-ae45-160e099d62c7",
   "metadata": {},
   "outputs": [],
   "source": [
    "y = [1,2,3,4,5]"
   ]
  },
  {
   "cell_type": "code",
   "execution_count": 5,
   "id": "4fa0bffb-af47-44b2-a4d7-84f235b2cda2",
   "metadata": {},
   "outputs": [],
   "source": [
    "z=x\n"
   ]
  },
  {
   "cell_type": "code",
   "execution_count": 6,
   "id": "ec25037c-e87a-4273-a349-1e3d29e4874e",
   "metadata": {},
   "outputs": [
    {
     "data": {
      "text/plain": [
       "True"
      ]
     },
     "execution_count": 6,
     "metadata": {},
     "output_type": "execute_result"
    }
   ],
   "source": [
    "x is z\n"
   ]
  },
  {
   "cell_type": "code",
   "execution_count": 7,
   "id": "ef2aa4a0-2e9d-4dfd-93ef-814cd95bf64f",
   "metadata": {},
   "outputs": [
    {
     "data": {
      "text/plain": [
       "False"
      ]
     },
     "execution_count": 7,
     "metadata": {},
     "output_type": "execute_result"
    }
   ],
   "source": [
    "y is z"
   ]
  },
  {
   "cell_type": "code",
   "execution_count": 8,
   "id": "5e1d5517-716f-4d3c-aad9-117345fba154",
   "metadata": {},
   "outputs": [
    {
     "data": {
      "text/plain": [
       "True"
      ]
     },
     "execution_count": 8,
     "metadata": {},
     "output_type": "execute_result"
    }
   ],
   "source": [
    "z is x"
   ]
  },
  {
   "cell_type": "markdown",
   "id": "014457a9-535d-42cf-8c7c-2954714acb2c",
   "metadata": {},
   "source": [
    "# not opposite hota hai"
   ]
  },
  {
   "cell_type": "code",
   "execution_count": 9,
   "id": "2ce75e67-2d44-4fda-ada6-06f0e78fe424",
   "metadata": {},
   "outputs": [
    {
     "data": {
      "text/plain": [
       "False"
      ]
     },
     "execution_count": 9,
     "metadata": {},
     "output_type": "execute_result"
    }
   ],
   "source": [
    "44 in x"
   ]
  },
  {
   "cell_type": "code",
   "execution_count": 10,
   "id": "34348f8e-f6f8-4952-83e0-fa964cb4eab3",
   "metadata": {},
   "outputs": [
    {
     "data": {
      "text/plain": [
       "True"
      ]
     },
     "execution_count": 10,
     "metadata": {},
     "output_type": "execute_result"
    }
   ],
   "source": [
    "4 in x\n"
   ]
  },
  {
   "cell_type": "code",
   "execution_count": 11,
   "id": "94619200-44ff-47b4-8234-3ebad62c367b",
   "metadata": {},
   "outputs": [
    {
     "data": {
      "text/plain": [
       "True"
      ]
     },
     "execution_count": 11,
     "metadata": {},
     "output_type": "execute_result"
    }
   ],
   "source": [
    "44 not in x\n"
   ]
  },
  {
   "cell_type": "code",
   "execution_count": 13,
   "id": "d78f7c61-d53b-4003-acad-6aca1c7379f2",
   "metadata": {},
   "outputs": [
    {
     "data": {
      "text/plain": [
       "False"
      ]
     },
     "execution_count": 13,
     "metadata": {},
     "output_type": "execute_result"
    }
   ],
   "source": [
    "4 not in x"
   ]
  },
  {
   "cell_type": "markdown",
   "id": "b3c6fe4f-0672-406b-b3ce-7de6adf9bcc9",
   "metadata": {},
   "source": [
    "# MATH LIBRARY"
   ]
  },
  {
   "cell_type": "markdown",
   "id": "1911c944-8325-4dac-afc8-1f695276cd21",
   "metadata": {},
   "source": [
    "-> Import Math Libray<br>\n",
    "-> Exponent<br>\n",
    "-> logarithm<br>\n",
    "->PowerOf<br>\n",
    "->Square root<br>\n",
    "->Cieling Value<br>\n",
    "->pi<br>"
   ]
  },
  {
   "cell_type": "code",
   "execution_count": 15,
   "id": "a0c5c35d-e2a2-4ac5-92be-d3065191f0d6",
   "metadata": {},
   "outputs": [],
   "source": [
    "import math "
   ]
  },
  {
   "cell_type": "code",
   "execution_count": 16,
   "id": "13e20e3a-6e3c-4442-95ec-eb0215568605",
   "metadata": {},
   "outputs": [
    {
     "data": {
      "text/plain": [
       "2.718281828459045"
      ]
     },
     "execution_count": 16,
     "metadata": {},
     "output_type": "execute_result"
    }
   ],
   "source": [
    "math.exp(1) #Shift + Tab"
   ]
  },
  {
   "cell_type": "code",
   "execution_count": 17,
   "id": "a47d161a-3be7-4e8e-aa99-3f1784d99400",
   "metadata": {},
   "outputs": [
    {
     "data": {
      "text/plain": [
       "20.085536923187668"
      ]
     },
     "execution_count": 17,
     "metadata": {},
     "output_type": "execute_result"
    }
   ],
   "source": [
    "math.exp(3)"
   ]
  },
  {
   "cell_type": "code",
   "execution_count": 18,
   "id": "92334b56-ea35-4f30-be9d-dad5d45f96af",
   "metadata": {},
   "outputs": [
    {
     "data": {
      "text/plain": [
       "2.302585092994046"
      ]
     },
     "execution_count": 18,
     "metadata": {},
     "output_type": "execute_result"
    }
   ],
   "source": [
    "math.log(10)"
   ]
  },
  {
   "cell_type": "code",
   "execution_count": 22,
   "id": "409d9d3b-ab8e-4222-b9af-80dedba6bc23",
   "metadata": {},
   "outputs": [
    {
     "data": {
      "text/plain": [
       "3.3219280948873626"
      ]
     },
     "execution_count": 22,
     "metadata": {},
     "output_type": "execute_result"
    }
   ],
   "source": [
    "math.log(10,2)  # i have searcheed for value of log 10 and base is 2\n",
    "#if we don't give base than it is taekn base e automatically because graph of these power is not possible so we used log for plotting graph\n"
   ]
  },
  {
   "cell_type": "code",
   "execution_count": 24,
   "id": "fbf7801d-cf63-493d-89ff-225a478f2e86",
   "metadata": {},
   "outputs": [
    {
     "data": {
      "text/plain": [
       "10.000000000000002"
      ]
     },
     "execution_count": 24,
     "metadata": {},
     "output_type": "execute_result"
    }
   ],
   "source": [
    " 2**3.3219280948873626"
   ]
  },
  {
   "cell_type": "code",
   "execution_count": 28,
   "id": "2eda3111-06d7-4ad6-a9a0-fcc27530f7cd",
   "metadata": {},
   "outputs": [
    {
     "data": {
      "text/plain": [
       "9.0"
      ]
     },
     "execution_count": 28,
     "metadata": {},
     "output_type": "execute_result"
    }
   ],
   "source": [
    "math.pow(3,2)  #3 to the power 2"
   ]
  },
  {
   "cell_type": "code",
   "execution_count": 29,
   "id": "e79f94e5-5e26-4f70-bf2b-6241a8fbafee",
   "metadata": {},
   "outputs": [
    {
     "data": {
      "text/plain": [
       "9"
      ]
     },
     "execution_count": 29,
     "metadata": {},
     "output_type": "execute_result"
    }
   ],
   "source": [
    "3**2"
   ]
  },
  {
   "cell_type": "code",
   "execution_count": 30,
   "id": "76720734-4aa7-4721-8d30-92deb2ecbd48",
   "metadata": {},
   "outputs": [
    {
     "data": {
      "text/plain": [
       "2.0"
      ]
     },
     "execution_count": 30,
     "metadata": {},
     "output_type": "execute_result"
    }
   ],
   "source": [
    "math.sqrt(4)"
   ]
  },
  {
   "cell_type": "code",
   "execution_count": 33,
   "id": "e21ae710-148d-4b06-908c-95063c8b09de",
   "metadata": {},
   "outputs": [
    {
     "data": {
      "text/plain": [
       "6"
      ]
     },
     "execution_count": 33,
     "metadata": {},
     "output_type": "execute_result"
    }
   ],
   "source": [
    "math.ceil(5.1)"
   ]
  },
  {
   "cell_type": "code",
   "execution_count": 34,
   "id": "ebd8396f-d0e5-4c80-9b0c-6f8deaa29951",
   "metadata": {},
   "outputs": [
    {
     "data": {
      "text/plain": [
       "5"
      ]
     },
     "execution_count": 34,
     "metadata": {},
     "output_type": "execute_result"
    }
   ],
   "source": [
    "math.floor(5.6)"
   ]
  },
  {
   "cell_type": "code",
   "execution_count": 35,
   "id": "1623c066-01ee-4742-ae21-7071eb3a761c",
   "metadata": {},
   "outputs": [
    {
     "data": {
      "text/plain": [
       "3.141592653589793"
      ]
     },
     "execution_count": 35,
     "metadata": {},
     "output_type": "execute_result"
    }
   ],
   "source": [
    "math.pi"
   ]
  },
  {
   "cell_type": "markdown",
   "id": "3194fb42-6219-4410-a1c3-cb3f37ccd573",
   "metadata": {},
   "source": [
    "# variables"
   ]
  },
  {
   "cell_type": "markdown",
   "id": "be8d60f1-2232-498b-8ce2-a0f9c9fdabc5",
   "metadata": {},
   "source": [
    "->numerical variable and it's types\n",
    "->String variable and it's types\n"
   ]
  },
  {
   "cell_type": "code",
   "execution_count": 36,
   "id": "61993de2-eb79-4ede-ae47-4adf8ee832ec",
   "metadata": {},
   "outputs": [
    {
     "data": {
      "text/plain": [
       "int"
      ]
     },
     "execution_count": 36,
     "metadata": {},
     "output_type": "execute_result"
    }
   ],
   "source": [
    "x = 2\n",
    "type(x)"
   ]
  },
  {
   "cell_type": "code",
   "execution_count": 37,
   "id": "a1df0047-b8a3-4668-a03b-e7cc012aba97",
   "metadata": {},
   "outputs": [
    {
     "data": {
      "text/plain": [
       "float"
      ]
     },
     "execution_count": 37,
     "metadata": {},
     "output_type": "execute_result"
    }
   ],
   "source": [
    "x= 2.5\n",
    "type(x)"
   ]
  },
  {
   "cell_type": "code",
   "execution_count": 38,
   "id": "9e802c43-67e0-4982-80b5-ad075884a37e",
   "metadata": {},
   "outputs": [
    {
     "data": {
      "text/plain": [
       "str"
      ]
     },
     "execution_count": 38,
     "metadata": {},
     "output_type": "execute_result"
    }
   ],
   "source": [
    "x=\"Mahcine\"\n",
    "type(x)"
   ]
  },
  {
   "cell_type": "markdown",
   "id": "dc9cb276-b9a8-44b6-b206-8ffc80c06f66",
   "metadata": {},
   "source": [
    "# Data types\n",
    "##### -> bool\n",
    "##### ->int\n",
    "##### -> float\n",
    "##### -> complex\n",
    "##### -> string\n",
    "##### -> list\n",
    "##### -> dictionsry\n",
    "##### -> tuple(Immutable)\n",
    "##### -> set\n"
   ]
  },
  {
   "cell_type": "markdown",
   "id": "c2c159ec-c2a2-48b8-b90f-21888cc87bb6",
   "metadata": {},
   "source": [
    "# TYPECAST\n",
    "##### -> Int To Float\n",
    "##### -> Float to Int"
   ]
  },
  {
   "cell_type": "code",
   "execution_count": 42,
   "id": "64498c6e-d036-4b73-95f6-797697ec943b",
   "metadata": {},
   "outputs": [
    {
     "data": {
      "text/plain": [
       "bool"
      ]
     },
     "execution_count": 42,
     "metadata": {},
     "output_type": "execute_result"
    }
   ],
   "source": [
    "x = False\n",
    "type(x)"
   ]
  },
  {
   "cell_type": "code",
   "execution_count": 43,
   "id": "22c0541b-043a-45e0-95b5-819a869203f5",
   "metadata": {},
   "outputs": [
    {
     "data": {
      "text/plain": [
       "complex"
      ]
     },
     "execution_count": 43,
     "metadata": {},
     "output_type": "execute_result"
    }
   ],
   "source": [
    "x = 2+3j\n",
    "type(x)"
   ]
  },
  {
   "cell_type": "code",
   "execution_count": 44,
   "id": "8df0238b-cd90-4b6c-b7c6-80684c323341",
   "metadata": {},
   "outputs": [
    {
     "data": {
      "text/plain": [
       "list"
      ]
     },
     "execution_count": 44,
     "metadata": {},
     "output_type": "execute_result"
    }
   ],
   "source": [
    "x= [1,2,3,4,5]\n",
    "type(x)"
   ]
  },
  {
   "cell_type": "code",
   "execution_count": 45,
   "id": "17a9d45e-c38e-484f-83a9-b109c8fdad05",
   "metadata": {},
   "outputs": [
    {
     "data": {
      "text/plain": [
       "tuple"
      ]
     },
     "execution_count": 45,
     "metadata": {},
     "output_type": "execute_result"
    }
   ],
   "source": [
    "x = (1,2,3,4,5)\n",
    "type(x)"
   ]
  },
  {
   "cell_type": "code",
   "execution_count": 48,
   "id": "b8e5ab48-f35c-4455-8bb5-cdb1960bf15e",
   "metadata": {},
   "outputs": [
    {
     "data": {
      "text/plain": [
       "set"
      ]
     },
     "execution_count": 48,
     "metadata": {},
     "output_type": "execute_result"
    }
   ],
   "source": [
    "x = {1,2,3,4}\n",
    "type(x)   #immutbale"
   ]
  },
  {
   "cell_type": "code",
   "execution_count": 49,
   "id": "8bd4684e-0e3f-47e4-8074-7a81772dede0",
   "metadata": {},
   "outputs": [],
   "source": [
    "x ={0:'zero', 1:'two', 2: 'three'}"
   ]
  },
  {
   "cell_type": "code",
   "execution_count": 50,
   "id": "18949e7d-724b-4820-86a6-d895060917d0",
   "metadata": {},
   "outputs": [
    {
     "data": {
      "text/plain": [
       "{0: 'zero', 1: 'two', 2: 'three'}"
      ]
     },
     "execution_count": 50,
     "metadata": {},
     "output_type": "execute_result"
    }
   ],
   "source": [
    "x"
   ]
  },
  {
   "cell_type": "code",
   "execution_count": 51,
   "id": "973b9bed-5f21-4439-88b0-47a8518e26a4",
   "metadata": {},
   "outputs": [
    {
     "data": {
      "text/plain": [
       "dict"
      ]
     },
     "execution_count": 51,
     "metadata": {},
     "output_type": "execute_result"
    }
   ],
   "source": [
    "type(x)"
   ]
  },
  {
   "cell_type": "markdown",
   "id": "393b30c6-f56c-4e23-b555-2ae48af2aef8",
   "metadata": {},
   "source": [
    "# TYPECAST"
   ]
  },
  {
   "cell_type": "code",
   "execution_count": 53,
   "id": "f815abe5-fc68-4d8a-8c5b-e4b4a633fe94",
   "metadata": {},
   "outputs": [
    {
     "data": {
      "text/plain": [
       "int"
      ]
     },
     "execution_count": 53,
     "metadata": {},
     "output_type": "execute_result"
    }
   ],
   "source": [
    "x = 10\n",
    "type(x)"
   ]
  },
  {
   "cell_type": "code",
   "execution_count": 54,
   "id": "40de94e8-4ddf-435a-8592-c699a2c4caa9",
   "metadata": {},
   "outputs": [],
   "source": [
    "x=float(x)"
   ]
  },
  {
   "cell_type": "code",
   "execution_count": 55,
   "id": "d52bf434-ce7f-43f8-bb75-718641bb7409",
   "metadata": {},
   "outputs": [
    {
     "data": {
      "text/plain": [
       "float"
      ]
     },
     "execution_count": 55,
     "metadata": {},
     "output_type": "execute_result"
    }
   ],
   "source": [
    "type(x)"
   ]
  },
  {
   "cell_type": "code",
   "execution_count": 57,
   "id": "7546ef11-22d0-428d-a42d-1603b896a6e6",
   "metadata": {},
   "outputs": [
    {
     "data": {
      "text/plain": [
       "int"
      ]
     },
     "execution_count": 57,
     "metadata": {},
     "output_type": "execute_result"
    }
   ],
   "source": [
    " a= 10.5\n",
    "a = int(a)\n",
    "type(a)"
   ]
  },
  {
   "cell_type": "markdown",
   "id": "e7456a58-fc52-498d-9e45-5687b8b78e4c",
   "metadata": {},
   "source": [
    "# STRINGS\n",
    "##### ->Single Quotes vs Doube Quotes\n",
    "##### ->Length Of a String\n",
    "##### ->Number wrapper In Quotes\n",
    "##### ->Indices(0 t0n-1) \n",
    "##### ->Reverse Order (Negative Indexing--1 to n)\n",
    "##### ->SLicing-Doesn't include Upper BOund & Includes Lower Bound\n"
   ]
  },
  {
   "cell_type": "code",
   "execution_count": 58,
   "id": "14a6eefa-bfd7-40c5-bd0e-6d7426652e14",
   "metadata": {},
   "outputs": [],
   "source": [
    "x =\"Machine Learning\""
   ]
  },
  {
   "cell_type": "code",
   "execution_count": 61,
   "id": "8f21d531-a07e-4d30-9f42-aa253d1bd93c",
   "metadata": {},
   "outputs": [
    {
     "name": "stdout",
     "output_type": "stream",
     "text": [
      "it's good\n"
     ]
    }
   ],
   "source": [
    "x = \"it's good\" # if we use single quote her it will give an error because we have used three single quotes in one line\n",
    "print(x)"
   ]
  },
  {
   "cell_type": "code",
   "execution_count": 60,
   "id": "ea7f5e2f-10b7-4299-a62c-22d75e8d2cda",
   "metadata": {},
   "outputs": [
    {
     "name": "stdout",
     "output_type": "stream",
     "text": [
      "it's g\"ood\n"
     ]
    }
   ],
   "source": [
    "x = 'it\\'s g\\\"ood'\n",
    "print(x)"
   ]
  },
  {
   "cell_type": "code",
   "execution_count": 62,
   "id": "0f65af52-4e9a-4924-bc83-1af0a4778122",
   "metadata": {},
   "outputs": [],
   "source": [
    "x = \"Machine\""
   ]
  },
  {
   "cell_type": "markdown",
   "id": "42806a36-d16d-4547-824d-9dbe814caf83",
   "metadata": {},
   "source": [
    "\"M   a   c   h   i    n    e\"\n",
    " 0   1   2   3   4    5    6 \n",
    "-7  -6  -5  -4  -3   -2   -1"
   ]
  },
  {
   "cell_type": "code",
   "execution_count": 65,
   "id": "d49f78d1-503b-4428-87c1-45f915f64b8e",
   "metadata": {},
   "outputs": [
    {
     "data": {
      "text/plain": [
       "'M'"
      ]
     },
     "execution_count": 65,
     "metadata": {},
     "output_type": "execute_result"
    }
   ],
   "source": [
    "x[0]"
   ]
  },
  {
   "cell_type": "code",
   "execution_count": 66,
   "id": "7f316f67-95e3-4749-8c53-247173028f42",
   "metadata": {},
   "outputs": [
    {
     "data": {
      "text/plain": [
       "'i'"
      ]
     },
     "execution_count": 66,
     "metadata": {},
     "output_type": "execute_result"
    }
   ],
   "source": [
    "x[4]"
   ]
  },
  {
   "cell_type": "code",
   "execution_count": 67,
   "id": "2cae25b9-013d-472a-a80c-82b7291e690c",
   "metadata": {},
   "outputs": [
    {
     "data": {
      "text/plain": [
       "'e'"
      ]
     },
     "execution_count": 67,
     "metadata": {},
     "output_type": "execute_result"
    }
   ],
   "source": [
    "x[-1]"
   ]
  },
  {
   "cell_type": "code",
   "execution_count": 69,
   "id": "f58f0200-1006-43eb-9704-610b4863173d",
   "metadata": {},
   "outputs": [
    {
     "data": {
      "text/plain": [
       "'Mac'"
      ]
     },
     "execution_count": 69,
     "metadata": {},
     "output_type": "execute_result"
    }
   ],
   "source": [
    "x[0:3]  #x[start index : end index+1]-->slicing"
   ]
  },
  {
   "cell_type": "code",
   "execution_count": 70,
   "id": "b901390c-4e56-48ca-b672-42cc92021665",
   "metadata": {},
   "outputs": [
    {
     "data": {
      "text/plain": [
       "'Machi'"
      ]
     },
     "execution_count": 70,
     "metadata": {},
     "output_type": "execute_result"
    }
   ],
   "source": [
    "x[:5] # starting index is  not mntioned than it takes from index 0"
   ]
  },
  {
   "cell_type": "code",
   "execution_count": 72,
   "id": "8a6cc157-dd8d-4dea-bd74-b27052503dec",
   "metadata": {},
   "outputs": [
    {
     "data": {
      "text/plain": [
       "'achine'"
      ]
     },
     "execution_count": 72,
     "metadata": {},
     "output_type": "execute_result"
    }
   ],
   "source": [
    "x[1:] #when an end index is not mentioned it takes automaticlly till end"
   ]
  },
  {
   "cell_type": "code",
   "execution_count": 73,
   "id": "85704f2a-9d57-493d-bf46-e190a6cdef68",
   "metadata": {},
   "outputs": [
    {
     "data": {
      "text/plain": [
       "'Mcie'"
      ]
     },
     "execution_count": 73,
     "metadata": {},
     "output_type": "execute_result"
    }
   ],
   "source": [
    "x[::2] # it takes alternate value"
   ]
  },
  {
   "cell_type": "code",
   "execution_count": 74,
   "id": "455eb43c-7142-4531-ae55-74e3ca26ee8d",
   "metadata": {},
   "outputs": [
    {
     "data": {
      "text/plain": [
       "'Mhe'"
      ]
     },
     "execution_count": 74,
     "metadata": {},
     "output_type": "execute_result"
    }
   ],
   "source": [
    "x[::3]"
   ]
  },
  {
   "cell_type": "code",
   "execution_count": 75,
   "id": "75e24663-bdc1-47dd-9eaa-4c3d399d80fc",
   "metadata": {},
   "outputs": [
    {
     "data": {
      "text/plain": [
       "'enihcaM'"
      ]
     },
     "execution_count": 75,
     "metadata": {},
     "output_type": "execute_result"
    }
   ],
   "source": [
    "x[::-1] #inverse of string x[::-2] if -2 then it will skip 1 from behind and then answer"
   ]
  },
  {
   "cell_type": "code",
   "execution_count": 77,
   "id": "599a4569-f531-4127-9d64-0b7b19168f0a",
   "metadata": {},
   "outputs": [
    {
     "data": {
      "text/plain": [
       "'Machine'"
      ]
     },
     "execution_count": 77,
     "metadata": {},
     "output_type": "execute_result"
    }
   ],
   "source": [
    "x[:]# if not mention it will take the whole "
   ]
  },
  {
   "cell_type": "markdown",
   "id": "2d8e6aa2-d9ea-4e91-a6e5-d843ee64e3c7",
   "metadata": {},
   "source": [
    "# BOOLEAN\n",
    "   ##### ->Truth Value Testing\n",
    "   ##### ->OBject is True unless it is False explicitly\n",
    " ##### ->all vlaues are considered \"truthy \" except for the following which are \"Falsy\":\n",
    " ##### -> None,False,Zeros including:0,0.0,0j,decimal.Decimal(0),fracction.Fraction(0,1),\n",
    "  ##### -> Empty sequences and colleciton including\n",
    "   ##### []-an empty list\n",
    "   ##### {}-an empty dict\n",
    "   ##### ()-an empty tuple\n",
    "  #####  \"-an empty str\n",
    " ##### b\" - an empty bytes\n",
    "   ##### sst() -an empty set\n",
    "   ##### an empty range like range{0} \n",
    "   ##### objects for which\n",
    "   ##### obj.bool() return false\n",
    "   ##### obj.len() return 0\n",
    "   ##### Atuthy value will satisfy the check performed by if or while statements.We use \"truthy\" and \"false\" to differentiate from the bool values True and False\n",
    "   "
   ]
  },
  {
   "cell_type": "code",
   "execution_count": 80,
   "id": "96e8d333-14a4-4b08-a1b3-a8101d6de79e",
   "metadata": {},
   "outputs": [
    {
     "name": "stdout",
     "output_type": "stream",
     "text": [
      "junk\n",
      "something else\n",
      "something other othan that\n",
      "outside of it\n"
     ]
    }
   ],
   "source": [
    "if(-1):\n",
    "  print(\"junk\")\n",
    "  print(\"something else\")\n",
    "  print(\"something other othan that\")\n",
    "\n",
    "print(\"outside of it\")"
   ]
  },
  {
   "cell_type": "code",
   "execution_count": 82,
   "id": "b4c9d9b7-7a5b-465b-b3e3-56e52c5fa181",
   "metadata": {},
   "outputs": [
    {
     "name": "stdout",
     "output_type": "stream",
     "text": [
      "outside of it\n"
     ]
    }
   ],
   "source": [
    "if(None):\n",
    "  print(\"junk\")\n",
    "  print(\"something else\")\n",
    "  print(\"something other othan that\")\n",
    "\n",
    "print(\"outside of it\")"
   ]
  },
  {
   "cell_type": "markdown",
   "id": "c3903546-a78f-4ec2-8daf-61538cee8d89",
   "metadata": {},
   "source": [
    "# Special Character \n",
    "  ##### -> Print aPostrophe\n",
    "  ##### ->Print apostrophe using\\\n",
    "  ##### ->Print Backslash\n",
    "  ##### ->split mehtod\n",
    "  ##### ->strio method\n",
    "  ##### ->string concatenaton\n",
    "  ##### ->strin immutable(can overwirte)"
   ]
  },
  {
   "cell_type": "code",
   "execution_count": 84,
   "id": "21c67d2c-72fc-4d20-8489-0c6d894e274d",
   "metadata": {},
   "outputs": [
    {
     "name": "stdout",
     "output_type": "stream",
     "text": [
      "machine \\ learning\n"
     ]
    }
   ],
   "source": [
    "x= \"machine \\\\ learning\"\n",
    "print(x)"
   ]
  },
  {
   "cell_type": "code",
   "execution_count": 85,
   "id": "0113cdb0-a524-43ed-b6d0-e98d1dfdd73a",
   "metadata": {},
   "outputs": [
    {
     "data": {
      "text/plain": [
       "['machine', '\\\\', 'learning']"
      ]
     },
     "execution_count": 85,
     "metadata": {},
     "output_type": "execute_result"
    }
   ],
   "source": [
    "x.split()"
   ]
  },
  {
   "cell_type": "code",
   "execution_count": 88,
   "id": "83ce8d86-d24e-4b78-96a2-f8b8cb433abc",
   "metadata": {},
   "outputs": [
    {
     "data": {
      "text/plain": [
       "'\\\\'"
      ]
     },
     "execution_count": 88,
     "metadata": {},
     "output_type": "execute_result"
    }
   ],
   "source": [
    "x.split()[1]"
   ]
  },
  {
   "cell_type": "code",
   "execution_count": 90,
   "id": "574f1f48-f825-413c-891b-da1e70eea471",
   "metadata": {},
   "outputs": [
    {
     "data": {
      "text/plain": [
       "['machine,learning']"
      ]
     },
     "execution_count": 90,
     "metadata": {},
     "output_type": "execute_result"
    }
   ],
   "source": [
    "x= \"machine,learning\"\n",
    "x.split() #shift + tab fro showing the documentatiojn"
   ]
  },
  {
   "cell_type": "code",
   "execution_count": 91,
   "id": "f7aea5fd-d690-47c5-9cea-faa3fc28c54a",
   "metadata": {},
   "outputs": [
    {
     "data": {
      "text/plain": [
       "['machine', 'learning']"
      ]
     },
     "execution_count": 91,
     "metadata": {},
     "output_type": "execute_result"
    }
   ],
   "source": [
    "x= \"machine,learning\"\n",
    "x.split(sep=',')"
   ]
  },
  {
   "cell_type": "code",
   "execution_count": 92,
   "id": "31958fc9-d098-4574-9dd6-ad46c5858069",
   "metadata": {},
   "outputs": [],
   "source": [
    "import re"
   ]
  },
  {
   "cell_type": "code",
   "execution_count": 93,
   "id": "87c07766-a021-408d-a0e9-90b680ae0618",
   "metadata": {},
   "outputs": [],
   "source": [
    "y = \"    MACHINE LEARNING   \" # beech wla space nhi consider kreg it will take side spaces"
   ]
  },
  {
   "cell_type": "code",
   "execution_count": 94,
   "id": "a682034a-a00c-4be3-8675-bf2b083cc392",
   "metadata": {},
   "outputs": [
    {
     "data": {
      "text/plain": [
       "'    MACHINE LEARNING   '"
      ]
     },
     "execution_count": 94,
     "metadata": {},
     "output_type": "execute_result"
    }
   ],
   "source": [
    "y"
   ]
  },
  {
   "cell_type": "code",
   "execution_count": 95,
   "id": "954ce069-b46f-4124-9857-01bd93938710",
   "metadata": {},
   "outputs": [
    {
     "data": {
      "text/plain": [
       "'MACHINE LEARNING'"
      ]
     },
     "execution_count": 95,
     "metadata": {},
     "output_type": "execute_result"
    }
   ],
   "source": [
    "y.strip()"
   ]
  },
  {
   "cell_type": "code",
   "execution_count": 96,
   "id": "198d079e-2bcb-4085-90e0-c975e19fdce0",
   "metadata": {},
   "outputs": [
    {
     "data": {
      "text/plain": [
       "'    MACHINE LEARNING'"
      ]
     },
     "execution_count": 96,
     "metadata": {},
     "output_type": "execute_result"
    }
   ],
   "source": [
    "y.rstrip() #sirf right se trim hoga"
   ]
  },
  {
   "cell_type": "code",
   "execution_count": 97,
   "id": "d876ab51-8723-499d-8a12-51b6410e98db",
   "metadata": {},
   "outputs": [],
   "source": [
    "x= \"machine\""
   ]
  },
  {
   "cell_type": "code",
   "execution_count": 103,
   "id": "42d8b9dc-b6c3-490e-ad1b-08495ed04c07",
   "metadata": {},
   "outputs": [],
   "source": [
    "y= \"Learning\""
   ]
  },
  {
   "cell_type": "code",
   "execution_count": 104,
   "id": "7af17e76-3c96-4680-bdfc-a0d5ea8fdf48",
   "metadata": {},
   "outputs": [],
   "source": [
    "z=6"
   ]
  },
  {
   "cell_type": "code",
   "execution_count": 106,
   "id": "1e7d2850-06d7-4da6-b350-3bd63dd4aeaa",
   "metadata": {},
   "outputs": [
    {
     "data": {
      "text/plain": [
       "'machine Learning6'"
      ]
     },
     "execution_count": 106,
     "metadata": {},
     "output_type": "execute_result"
    }
   ],
   "source": [
    "x+\" \"+y + str(z)  # error dega ager str nahi lagaya to kyuki string string ke saath add hoga"
   ]
  },
  {
   "cell_type": "code",
   "execution_count": null,
   "id": "0a64b498-4357-45ad-bef4-56e40b4a4373",
   "metadata": {},
   "outputs": [],
   "source": []
  }
 ],
 "metadata": {
  "kernelspec": {
   "display_name": "Python 3 (ipykernel)",
   "language": "python",
   "name": "python3"
  },
  "language_info": {
   "codemirror_mode": {
    "name": "ipython",
    "version": 3
   },
   "file_extension": ".py",
   "mimetype": "text/x-python",
   "name": "python",
   "nbconvert_exporter": "python",
   "pygments_lexer": "ipython3",
   "version": "3.12.7"
  }
 },
 "nbformat": 4,
 "nbformat_minor": 5
}
